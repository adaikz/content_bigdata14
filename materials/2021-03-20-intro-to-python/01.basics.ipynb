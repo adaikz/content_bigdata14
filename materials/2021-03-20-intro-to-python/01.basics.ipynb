{
 "cells": [
  {
   "cell_type": "markdown",
   "metadata": {
    "ExecuteTime": {
     "end_time": "2020-09-17T06:18:20.969927Z",
     "start_time": "2020-09-17T06:18:20.963708Z"
    }
   },
   "source": [
    "![image info](./images/python_developer.png)"
   ]
  },
  {
   "cell_type": "markdown",
   "metadata": {
    "heading_collapsed": true
   },
   "source": [
    "# Интерпетатор Python"
   ]
  },
  {
   "cell_type": "code",
   "execution_count": null,
   "metadata": {
    "ExecuteTime": {
     "end_time": "2021-03-20T08:07:39.323367Z",
     "start_time": "2021-03-20T08:07:39.308995Z"
    },
    "hidden": true
   },
   "outputs": [],
   "source": [
    "import sys\n",
    "\n",
    "print(sys.version)"
   ]
  },
  {
   "cell_type": "markdown",
   "metadata": {
    "heading_collapsed": true
   },
   "source": [
    "# Основы (переменные, стуктуры данных, циклы, условные операторы)"
   ]
  },
  {
   "cell_type": "markdown",
   "metadata": {
    "heading_collapsed": true,
    "hidden": true
   },
   "source": [
    "## Переменные"
   ]
  },
  {
   "cell_type": "code",
   "execution_count": null,
   "metadata": {
    "ExecuteTime": {
     "end_time": "2021-03-20T08:09:52.403206Z",
     "start_time": "2021-03-20T08:09:52.397707Z"
    },
    "hidden": true
   },
   "outputs": [],
   "source": [
    "# Определение переменых\n",
    "\n",
    "a = 1\n",
    "print(f\"{a = }, type: {type(a)}\")\n",
    "\n",
    "b = 0.5\n",
    "print(f\"{b = }, type: {type(b)}\")\n",
    "\n",
    "c = \"string\"\n",
    "print(f\"{c = }, type: {type(c)}\")\n",
    "\n",
    "d = True\n",
    "print(f\"{d = }, type: {type(d)}\")\n",
    "\n",
    "# Примеры вывода\n",
    "print('\\nЕще примеры вывода:')\n",
    "print(\"a = {0}, type: {1}\".format(a, type(a)))\n",
    "print(f\"a = {a+1.5}\")\n",
    "print(\"a = %s\\tb = %s\" % (a, b))"
   ]
  },
  {
   "cell_type": "code",
   "execution_count": null,
   "metadata": {
    "ExecuteTime": {
     "end_time": "2021-03-20T08:10:00.305321Z",
     "start_time": "2021-03-20T08:10:00.301268Z"
    },
    "hidden": true
   },
   "outputs": [],
   "source": [
    "# Тип переменных определяется в момент исполнения команды\n",
    "\n",
    "b = a\n",
    "a = c\n",
    "print(f\"{a = }, type: {type(a)}\")\n",
    "print(f\"{b = }, type: {type(b)}\")\n",
    "\n",
    "a = 1\n",
    "print(f\"a = {a}, type: {type(a)}\")"
   ]
  },
  {
   "cell_type": "markdown",
   "metadata": {
    "heading_collapsed": true,
    "hidden": true
   },
   "source": [
    "## Структуры данных"
   ]
  },
  {
   "cell_type": "markdown",
   "metadata": {
    "heading_collapsed": true,
    "hidden": true
   },
   "source": [
    "### list"
   ]
  },
  {
   "cell_type": "code",
   "execution_count": null,
   "metadata": {
    "ExecuteTime": {
     "end_time": "2021-03-20T08:18:16.790901Z",
     "start_time": "2021-03-20T08:18:16.785577Z"
    },
    "hidden": true
   },
   "outputs": [],
   "source": [
    "a = [1, 2, 'string', 0.2, 9, 9]\n",
    "print(f\"{a = }, type: {type(a)}\")"
   ]
  },
  {
   "cell_type": "code",
   "execution_count": null,
   "metadata": {
    "ExecuteTime": {
     "end_time": "2021-03-20T08:19:34.547546Z",
     "start_time": "2021-03-20T08:19:34.543734Z"
    },
    "hidden": true
   },
   "outputs": [],
   "source": [
    "a[0] = 0.5\n",
    "print(f\"{a = }, type: {type(a)}\")"
   ]
  },
  {
   "cell_type": "code",
   "execution_count": null,
   "metadata": {
    "ExecuteTime": {
     "end_time": "2021-03-20T08:20:36.442159Z",
     "start_time": "2021-03-20T08:20:36.430855Z"
    },
    "hidden": true
   },
   "outputs": [],
   "source": [
    "# start: stop: step\n",
    "\n",
    "print(f\"List: {a}\")\n",
    "print('Forward slicing:')\n",
    "print(' '*3, f\"{a[1:4] = }\")\n",
    "print(' '*3, f\"{a[::2] = }\")\n",
    "\n",
    "print()\n",
    "print('Backward slicing:')\n",
    "print(' '*3, f\"{a[-1] = }\")\n",
    "print(' '*3, f\"{a[-1:-3:-1] = }\")\n",
    "print(' '*3, f\"{a[::-1] = }\")"
   ]
  },
  {
   "cell_type": "code",
   "execution_count": null,
   "metadata": {
    "ExecuteTime": {
     "end_time": "2021-03-20T08:25:01.461329Z",
     "start_time": "2021-03-20T08:25:01.456166Z"
    },
    "hidden": true
   },
   "outputs": [],
   "source": [
    "# Методы объекта list\n",
    "method_list = [\n",
    "    func\n",
    "    for func in dir(a)\n",
    "    if callable(getattr(a, func)) and not func.startswith(\"__\")\n",
    "]\n",
    "print(f\"List methods: {method_list}\")\n",
    "    \n",
    "a.reverse()\n",
    "print('reverse:', f\"{a = }\")"
   ]
  },
  {
   "cell_type": "code",
   "execution_count": null,
   "metadata": {
    "ExecuteTime": {
     "end_time": "2021-03-20T08:25:48.923150Z",
     "start_time": "2021-03-20T08:25:48.919944Z"
    },
    "hidden": true
   },
   "outputs": [],
   "source": [
    "a.append([5,6,7])\n",
    "print(f\"{a = }\")"
   ]
  },
  {
   "cell_type": "code",
   "execution_count": null,
   "metadata": {
    "ExecuteTime": {
     "end_time": "2021-03-20T08:26:24.913870Z",
     "start_time": "2021-03-20T08:26:24.909861Z"
    },
    "hidden": true
   },
   "outputs": [],
   "source": [
    "a = a[:-1]\n",
    "a.extend([5, 6, 7])\n",
    "print(f\"{a = }\")"
   ]
  },
  {
   "cell_type": "markdown",
   "metadata": {
    "hidden": true
   },
   "source": [
    "**Итого**\n",
    "+ Может содержать елементы разного типа\n",
    "+ Последовательность элементов сохраняется\n",
    "+ Содержит богатое количество методов\n",
    "+ Доступ к элементам по индексам\n",
    "+ Можно изменять элементы массива\n",
    "+ Возможен slicing"
   ]
  },
  {
   "cell_type": "markdown",
   "metadata": {
    "heading_collapsed": true,
    "hidden": true
   },
   "source": [
    "### tuple"
   ]
  },
  {
   "cell_type": "code",
   "execution_count": null,
   "metadata": {
    "ExecuteTime": {
     "end_time": "2021-03-20T08:28:43.514911Z",
     "start_time": "2021-03-20T08:28:43.509231Z"
    },
    "hidden": true,
    "scrolled": true
   },
   "outputs": [],
   "source": [
    "a = (1, 2, 'string', 0.2, 9)\n",
    "print(f\"{a = }, type: {type(a)}\")\n",
    "\n",
    "a = [1]\n",
    "print(f\"{a = }, type: {type(a)}\")\n",
    "\n",
    "a = (1)\n",
    "print(f\"{a = }, type: {type(a)}\")\n",
    "\n",
    "a = (1,)\n",
    "print(f\"{a = }, type: {type(a)}\")\n",
    "\n",
    "a = (1, 2, 'string', 0.2, 9)\n"
   ]
  },
  {
   "cell_type": "code",
   "execution_count": null,
   "metadata": {
    "ExecuteTime": {
     "end_time": "2021-03-20T08:31:44.352329Z",
     "start_time": "2021-03-20T08:31:44.344718Z"
    },
    "hidden": true
   },
   "outputs": [],
   "source": [
    "try:\n",
    "    a[0] = 0.5\n",
    "except TypeError as err:\n",
    "    print(err)\n",
    "print(f\"{a[0] = }\")"
   ]
  },
  {
   "cell_type": "code",
   "execution_count": null,
   "metadata": {
    "ExecuteTime": {
     "end_time": "2021-03-20T08:32:51.779389Z",
     "start_time": "2021-03-20T08:32:51.774532Z"
    },
    "hidden": true
   },
   "outputs": [],
   "source": [
    "# Mетоды объекта tuple\n",
    "method_list = [func for func in dir(a) if callable(getattr(a, func)) and not func.startswith(\"__\")]\n",
    "print(f\"Tuple methods: {method_list}\")"
   ]
  },
  {
   "cell_type": "code",
   "execution_count": null,
   "metadata": {
    "ExecuteTime": {
     "end_time": "2021-03-20T08:33:05.049473Z",
     "start_time": "2021-03-20T08:33:05.041762Z"
    },
    "hidden": true
   },
   "outputs": [],
   "source": [
    "# start: stop: step\n",
    "\n",
    "print(f\"Tuple: {a}\")\n",
    "print('Forward slicing:')\n",
    "print(' '*3, f\"{a[1:4] = }\")\n",
    "print(' '*3, f\"{a[::2] = }\")\n",
    "\n",
    "print()\n",
    "print('Backward slicing:')\n",
    "print(' '*3, f\"{a[-1] = }\")\n",
    "print(' '*3, f\"{a[-1:-3:-1] = }\")\n",
    "print(' '*3, f\"{a[::-1] = }\")"
   ]
  },
  {
   "cell_type": "code",
   "execution_count": null,
   "metadata": {
    "ExecuteTime": {
     "end_time": "2021-03-20T08:33:22.792545Z",
     "start_time": "2021-03-20T08:33:22.776810Z"
    },
    "hidden": true
   },
   "outputs": [],
   "source": [
    "(1,2,3) + (6,)"
   ]
  },
  {
   "cell_type": "markdown",
   "metadata": {
    "hidden": true
   },
   "source": [
    "**Итого**\n",
    "+ Может содержать елементы разного типа\n",
    "+ Последовательность элементов сохраняется\n",
    "+ <del>Содержит богатое количество методов</del>\n",
    "+ Доступ к элементам по индексам\n",
    "+ <del>Можно изменять элементы массива</del>\n",
    "+ Возможен slicing"
   ]
  },
  {
   "cell_type": "markdown",
   "metadata": {
    "heading_collapsed": true,
    "hidden": true
   },
   "source": [
    "### set"
   ]
  },
  {
   "cell_type": "code",
   "execution_count": null,
   "metadata": {
    "ExecuteTime": {
     "end_time": "2021-03-20T08:34:46.552528Z",
     "start_time": "2021-03-20T08:34:46.545820Z"
    },
    "hidden": true
   },
   "outputs": [],
   "source": [
    "a = {1, 2, 'string', 0.2, 9, 9}\n",
    "print(f\"{a = }, type: {type(a)}\")\n",
    "\n",
    "a = {1}\n",
    "print(f\"{a = }, type: {type(a)}\")\n",
    "\n",
    "a = {1, 2, 'string', 0.2, 9, 9}"
   ]
  },
  {
   "cell_type": "code",
   "execution_count": null,
   "metadata": {
    "ExecuteTime": {
     "end_time": "2021-03-20T08:34:55.208257Z",
     "start_time": "2021-03-20T08:34:55.201582Z"
    },
    "hidden": true
   },
   "outputs": [],
   "source": [
    "try:\n",
    "    a[0] = 0.5\n",
    "except TypeError as err:\n",
    "    print(err)\n",
    "\n",
    "try:\n",
    "    print(f\"{a[0] = }\")\n",
    "except TypeError as err:\n",
    "    print(err)"
   ]
  },
  {
   "cell_type": "code",
   "execution_count": null,
   "metadata": {
    "ExecuteTime": {
     "end_time": "2021-03-20T08:35:42.978909Z",
     "start_time": "2021-03-20T08:35:42.971636Z"
    },
    "hidden": true
   },
   "outputs": [],
   "source": [
    "# Mетоды объекта set\n",
    "method_list = [func for func in dir(a) if callable(getattr(a, func)) and not func.startswith(\"__\")]\n",
    "print(f\"Set methods: {method_list}\")"
   ]
  },
  {
   "cell_type": "code",
   "execution_count": null,
   "metadata": {
    "ExecuteTime": {
     "end_time": "2021-03-20T08:36:25.314436Z",
     "start_time": "2021-03-20T08:36:25.310435Z"
    },
    "hidden": true
   },
   "outputs": [],
   "source": [
    "# Slicing\n",
    "\n",
    "try:\n",
    "    print(f\"Tuple: {a}\")\n",
    "    print('Forward slicing:')\n",
    "    print(' '*3, f\"{a[1:4] = }\")\n",
    "except TypeError as err:\n",
    "    print(err)"
   ]
  },
  {
   "cell_type": "markdown",
   "metadata": {
    "hidden": true
   },
   "source": [
    "**Итого**\n",
    "+ Может содержать елементы разного типа (если они хэшируемые)\n",
    "+ <del>Последовательность элементов сохраняется<del>\n",
    "+ Содержит богатое количество методов для работы с множествами\n",
    "+ <del>Доступ к элементам по индексам<del>\n",
    "+ <del>Можно изменять элементы массива</del>\n",
    "+ <del>Возможен slicing<del>"
   ]
  },
  {
   "cell_type": "markdown",
   "metadata": {
    "heading_collapsed": true,
    "hidden": true
   },
   "source": [
    "### dict"
   ]
  },
  {
   "cell_type": "code",
   "execution_count": null,
   "metadata": {
    "ExecuteTime": {
     "end_time": "2021-03-20T08:38:00.726325Z",
     "start_time": "2021-03-20T08:38:00.722253Z"
    },
    "hidden": true
   },
   "outputs": [],
   "source": [
    "a = {'key1': 7, 'key2': 'value'}\n",
    "print(f\"{a = }, type: {type(a)}\")\n",
    "print(\"'key1': {key1}, 'key2': {key2}\".format(**a))"
   ]
  },
  {
   "cell_type": "code",
   "execution_count": null,
   "metadata": {
    "ExecuteTime": {
     "end_time": "2021-03-20T08:42:12.257679Z",
     "start_time": "2021-03-20T08:42:12.254021Z"
    },
    "hidden": true
   },
   "outputs": [],
   "source": [
    "a[1] = 0.5\n",
    "a['1'] = 'string'\n",
    "a['key3'] = 'new key'\n",
    "print(f\"{a = }, type: {type(a)}\")"
   ]
  },
  {
   "cell_type": "code",
   "execution_count": null,
   "metadata": {
    "ExecuteTime": {
     "end_time": "2021-03-20T08:43:09.910133Z",
     "start_time": "2021-03-20T08:43:09.905744Z"
    },
    "hidden": true
   },
   "outputs": [],
   "source": [
    "# Методы объекта dict\n",
    "method_list = [func for func in dir(a) if callable(getattr(a, func)) and not func.startswith(\"__\")]\n",
    "print(f\"Dict methods: {method_list}\")\n",
    "    \n",
    "print('keys:', f\"{a.keys() = }\")"
   ]
  },
  {
   "cell_type": "markdown",
   "metadata": {
    "hidden": true
   },
   "source": [
    "**Итого**\n",
    "+ Хранение в виде пар ключ-значение. Реализовано в виде hash-таблицы.\n",
    "+ Ключи и значения могут быть разных типов. Ключи должны быть хэшируемы.\n",
    "+ Доступ к значениям по ключу за О(1)\n",
    "+ Содержит богатое количество методов\n",
    "+ Можно изменять данные по ключу и добавлять новые ключ-значения"
   ]
  },
  {
   "cell_type": "code",
   "execution_count": null,
   "metadata": {
    "ExecuteTime": {
     "end_time": "2021-03-20T08:45:21.774886Z",
     "start_time": "2021-03-20T08:45:21.771577Z"
    },
    "hidden": true
   },
   "outputs": [],
   "source": [
    "for k, v in a.items():\n",
    "    print(f\"{k = }, {v = }\")"
   ]
  },
  {
   "cell_type": "code",
   "execution_count": null,
   "metadata": {
    "ExecuteTime": {
     "end_time": "2021-03-20T08:45:54.418099Z",
     "start_time": "2021-03-20T08:45:54.414524Z"
    },
    "hidden": true
   },
   "outputs": [],
   "source": [
    "'key4' in a"
   ]
  },
  {
   "cell_type": "markdown",
   "metadata": {
    "heading_collapsed": true,
    "hidden": true
   },
   "source": [
    "## Условные операторы"
   ]
  },
  {
   "cell_type": "code",
   "execution_count": null,
   "metadata": {
    "ExecuteTime": {
     "end_time": "2021-03-20T08:47:19.422155Z",
     "start_time": "2021-03-20T08:47:19.419506Z"
    },
    "hidden": true
   },
   "outputs": [],
   "source": [
    "a = 10"
   ]
  },
  {
   "cell_type": "code",
   "execution_count": null,
   "metadata": {
    "ExecuteTime": {
     "end_time": "2021-03-20T08:47:23.811099Z",
     "start_time": "2021-03-20T08:47:23.807799Z"
    },
    "hidden": true
   },
   "outputs": [],
   "source": [
    "if a < 100:\n",
    "    print(True)"
   ]
  },
  {
   "cell_type": "code",
   "execution_count": null,
   "metadata": {
    "ExecuteTime": {
     "end_time": "2021-03-20T08:47:58.820834Z",
     "start_time": "2021-03-20T08:47:58.817810Z"
    },
    "hidden": true
   },
   "outputs": [],
   "source": [
    "if a >= 100:\n",
    "    print(True)\n",
    "else:\n",
    "    print(False)"
   ]
  },
  {
   "cell_type": "code",
   "execution_count": null,
   "metadata": {
    "ExecuteTime": {
     "end_time": "2021-03-20T08:48:34.311682Z",
     "start_time": "2021-03-20T08:48:34.306031Z"
    },
    "hidden": true
   },
   "outputs": [],
   "source": [
    "if a >= 100:\n",
    "    print('a >= 100')\n",
    "elif 20 < a < 100: # 20 < a and a < 100\n",
    "    print('20 < a < 100')\n",
    "else:\n",
    "    print('a <= 20')"
   ]
  },
  {
   "cell_type": "code",
   "execution_count": null,
   "metadata": {
    "ExecuteTime": {
     "end_time": "2021-03-20T08:49:26.060823Z",
     "start_time": "2021-03-20T08:49:26.056650Z"
    },
    "hidden": true
   },
   "outputs": [],
   "source": [
    "if a >= 100:\n",
    "    print('a >= 100')\n",
    "elif 20 < a < 100:\n",
    "    print('20 < a < 100')\n",
    "elif a == 10:\n",
    "    print(True)"
   ]
  },
  {
   "cell_type": "markdown",
   "metadata": {
    "heading_collapsed": true,
    "hidden": true
   },
   "source": [
    "## Циклы"
   ]
  },
  {
   "cell_type": "code",
   "execution_count": null,
   "metadata": {
    "ExecuteTime": {
     "end_time": "2021-03-20T08:50:35.049268Z",
     "start_time": "2021-03-20T08:50:35.046616Z"
    },
    "hidden": true
   },
   "outputs": [],
   "source": [
    "import time"
   ]
  },
  {
   "cell_type": "code",
   "execution_count": null,
   "metadata": {
    "ExecuteTime": {
     "end_time": "2021-03-20T08:55:06.624155Z",
     "start_time": "2021-03-20T08:55:01.613638Z"
    },
    "hidden": true
   },
   "outputs": [],
   "source": [
    "p = 1\n",
    "total = 1_000\n",
    "while p <= total:\n",
    "    if p % 100 == 0:\n",
    "        print(f\"{p * 100 / total:.02f}%\", end='\\r')\n",
    "        time.sleep(0.5)\n",
    "    p += 1"
   ]
  },
  {
   "cell_type": "code",
   "execution_count": null,
   "metadata": {
    "ExecuteTime": {
     "end_time": "2021-03-20T08:55:32.853354Z",
     "start_time": "2021-03-20T08:55:27.841475Z"
    },
    "hidden": true
   },
   "outputs": [],
   "source": [
    "p = tuple(range(1, 1_001))\n",
    "print(\"Last 10 elements:\", f\"{p[:-11:-1]}\")\n",
    "\n",
    "for element in p:\n",
    "    if element % 100 == 0:\n",
    "        print(f\"{element * 100 / total:.02f}%\", end='\\r')\n",
    "        time.sleep(0.5)"
   ]
  },
  {
   "cell_type": "markdown",
   "metadata": {},
   "source": [
    "# Функции (return, yield)"
   ]
  },
  {
   "cell_type": "markdown",
   "metadata": {
    "solution2": "hidden",
    "solution2_first": true
   },
   "source": [
    "Даны два list.\n",
    "\n",
    "```python\n",
    "list1 = [1, 2, 6, 10, 'string1', 56, 'string2']\n",
    "list2 = [10, 20, 6, 100, 'string10', 5, 'string2']\n",
    "```\n",
    "\n",
    "Найти и вывести в виде list одинаковые елементы в list1 и list2 **(5 мин).**\n",
    "Если элементы в list1 и/или list2 повторяются, то в результирующем list он должен встречаться один раз."
   ]
  },
  {
   "cell_type": "code",
   "execution_count": null,
   "metadata": {
    "ExecuteTime": {
     "end_time": "2021-03-20T09:13:42.113748Z",
     "start_time": "2021-03-20T09:13:42.106868Z"
    },
    "solution2": "hidden"
   },
   "outputs": [],
   "source": [
    "list1 = [1, 2, 6, 10, 'string1', 56, 'string2']\n",
    "list2 = [10, 20, 6, 100, 'string10', 5, 'string2']\n",
    "\n",
    "result = []\n",
    "for e1 in list1:\n",
    "    for e2 in list2:\n",
    "        if e1 == e2:\n",
    "            result.append(e1)\n",
    "print(\"Result:\", f\"{list(set(result))}\")"
   ]
  },
  {
   "cell_type": "markdown",
   "metadata": {
    "heading_collapsed": true
   },
   "source": [
    "## Функция"
   ]
  },
  {
   "cell_type": "code",
   "execution_count": null,
   "metadata": {
    "ExecuteTime": {
     "end_time": "2021-03-20T09:17:13.675079Z",
     "start_time": "2021-03-20T09:17:13.671566Z"
    },
    "code_folding": [],
    "hidden": true
   },
   "outputs": [],
   "source": [
    "def find_same_elements(l1, l2, n=10):\n",
    "    result = []\n",
    "    for e1 in l1:\n",
    "        for e2 in l2:\n",
    "            if e1 == e2:\n",
    "                result.append(e1)\n",
    "    return list(set(result))"
   ]
  },
  {
   "cell_type": "code",
   "execution_count": null,
   "metadata": {
    "ExecuteTime": {
     "end_time": "2021-03-20T09:17:22.727335Z",
     "start_time": "2021-03-20T09:17:22.722529Z"
    },
    "hidden": true
   },
   "outputs": [],
   "source": [
    "%%time\n",
    "list1 = [1, 2, 6, 10, 'string1', 56, 'string2']\n",
    "list2 = [10, 20, 6, 100, 'string10', 5, 'string2']\n",
    "\n",
    "print(\"Result:\", f\"{find_same_elements(list1, list2)}\")"
   ]
  },
  {
   "cell_type": "code",
   "execution_count": null,
   "metadata": {
    "ExecuteTime": {
     "end_time": "2021-03-20T09:20:35.061852Z",
     "start_time": "2021-03-20T09:20:35.028816Z"
    },
    "hidden": true
   },
   "outputs": [],
   "source": [
    "# А что если елементов в list будет очень много?\n",
    "import random\n",
    "\n",
    "total = 100_001\n",
    "size = 10_000\n",
    "list1 = random.sample(range(1, total), size)\n",
    "list2 = random.sample(range(1, total), size)\n",
    "\n",
    "print(\"Length of list1:\", f\"{len(list1)}\")\n",
    "print(\"Length of list2:\", f\"{len(list2)}\")"
   ]
  },
  {
   "cell_type": "code",
   "execution_count": null,
   "metadata": {
    "ExecuteTime": {
     "end_time": "2021-03-20T09:21:14.154923Z",
     "start_time": "2021-03-20T09:21:08.256822Z"
    },
    "hidden": true
   },
   "outputs": [],
   "source": [
    "%%time\n",
    "res = find_same_elements(list1, list2)"
   ]
  },
  {
   "cell_type": "code",
   "execution_count": null,
   "metadata": {
    "ExecuteTime": {
     "end_time": "2021-03-20T09:21:52.970301Z",
     "start_time": "2021-03-20T09:21:52.966287Z"
    },
    "hidden": true
   },
   "outputs": [],
   "source": [
    "len(res), res[:10]"
   ]
  },
  {
   "cell_type": "code",
   "execution_count": null,
   "metadata": {
    "ExecuteTime": {
     "end_time": "2021-03-20T09:22:56.523660Z",
     "start_time": "2021-03-20T09:22:08.875600Z"
    },
    "hidden": true
   },
   "outputs": [],
   "source": [
    "%%timeit\n",
    "find_same_elements(list1, list2)"
   ]
  },
  {
   "cell_type": "markdown",
   "metadata": {
    "heading_collapsed": true
   },
   "source": [
    "## Генератор"
   ]
  },
  {
   "cell_type": "code",
   "execution_count": null,
   "metadata": {
    "ExecuteTime": {
     "end_time": "2021-03-20T09:26:28.918487Z",
     "start_time": "2021-03-20T09:26:28.913189Z"
    },
    "hidden": true
   },
   "outputs": [],
   "source": [
    "# Предположим, что мы хотим использовать найденный элемент сразу,\n",
    "# а не дожидаться пока алгоритм найдет все одинаковые элементы.\n",
    "# В этом случае нам может помочь генератор - особый тип данных.\n",
    "\n",
    "def find_same_elements_gen(l1, l2):\n",
    "    for e1 in l1:\n",
    "        for e2 in l2:\n",
    "            if e1 == e2:\n",
    "                yield e1"
   ]
  },
  {
   "cell_type": "code",
   "execution_count": null,
   "metadata": {
    "ExecuteTime": {
     "end_time": "2021-03-20T09:27:19.706074Z",
     "start_time": "2021-03-20T09:27:19.702388Z"
    },
    "hidden": true
   },
   "outputs": [],
   "source": [
    "import itertools as it"
   ]
  },
  {
   "cell_type": "code",
   "execution_count": null,
   "metadata": {
    "ExecuteTime": {
     "end_time": "2021-03-20T09:28:31.272897Z",
     "start_time": "2021-03-20T09:28:31.269511Z"
    },
    "hidden": true
   },
   "outputs": [],
   "source": [
    "generator = find_same_elements_gen(list1, list2)"
   ]
  },
  {
   "cell_type": "code",
   "execution_count": null,
   "metadata": {
    "ExecuteTime": {
     "end_time": "2021-03-20T09:29:22.197350Z",
     "start_time": "2021-03-20T09:29:22.180935Z"
    },
    "hidden": true
   },
   "outputs": [],
   "source": [
    "next(generator)"
   ]
  },
  {
   "cell_type": "code",
   "execution_count": null,
   "metadata": {
    "ExecuteTime": {
     "end_time": "2021-03-20T09:29:36.646048Z",
     "start_time": "2021-03-20T09:29:36.639775Z"
    },
    "hidden": true
   },
   "outputs": [],
   "source": [
    "next(generator)"
   ]
  },
  {
   "cell_type": "code",
   "execution_count": null,
   "metadata": {
    "ExecuteTime": {
     "end_time": "2021-03-20T09:30:31.176038Z",
     "start_time": "2021-03-20T09:30:31.089993Z"
    },
    "hidden": true
   },
   "outputs": [],
   "source": [
    "for el in it.islice(generator, 0, 11, 2):\n",
    "    print(f\"{el}\")"
   ]
  },
  {
   "cell_type": "code",
   "execution_count": null,
   "metadata": {
    "ExecuteTime": {
     "end_time": "2021-03-20T09:31:35.488884Z",
     "start_time": "2021-03-20T09:31:29.206348Z"
    },
    "hidden": true
   },
   "outputs": [],
   "source": [
    "%%time\n",
    "rest_of_generator = list(set(generator))"
   ]
  },
  {
   "cell_type": "code",
   "execution_count": null,
   "metadata": {
    "ExecuteTime": {
     "end_time": "2021-03-20T09:34:34.444926Z",
     "start_time": "2021-03-20T09:34:34.439879Z"
    },
    "hidden": true
   },
   "outputs": [],
   "source": [
    "# Генератор исчерпан\n",
    "try:\n",
    "    next(generator)\n",
    "except StopIteration as err:\n",
    "    print(list(generator))"
   ]
  },
  {
   "cell_type": "markdown",
   "metadata": {
    "heading_collapsed": true
   },
   "source": [
    "## Задача"
   ]
  },
  {
   "cell_type": "markdown",
   "metadata": {
    "hidden": true,
    "solution2": "hidden",
    "solution2_first": true
   },
   "source": [
    "Предложите решение, которое позволит значительно ускорить алгоритм **(10 мин).**"
   ]
  },
  {
   "cell_type": "code",
   "execution_count": null,
   "metadata": {
    "ExecuteTime": {
     "end_time": "2021-03-20T09:38:22.688685Z",
     "start_time": "2021-03-20T09:38:22.685850Z"
    },
    "hidden": true,
    "solution2": "hidden"
   },
   "outputs": [],
   "source": [
    "def find_same_elements_fast(l1, l2):\n",
    "    return list(set(l1).intersection(set(l2)))"
   ]
  },
  {
   "cell_type": "code",
   "execution_count": null,
   "metadata": {
    "ExecuteTime": {
     "end_time": "2021-03-20T09:38:24.469076Z",
     "start_time": "2021-03-20T09:38:24.462228Z"
    },
    "hidden": true
   },
   "outputs": [],
   "source": [
    "len(list1), len(list2)"
   ]
  },
  {
   "cell_type": "code",
   "execution_count": null,
   "metadata": {
    "ExecuteTime": {
     "end_time": "2021-03-20T09:38:27.918059Z",
     "start_time": "2021-03-20T09:38:26.186856Z"
    },
    "hidden": true
   },
   "outputs": [],
   "source": [
    "%%timeit\n",
    "find_same_elements_fast(list1, list2)"
   ]
  },
  {
   "cell_type": "code",
   "execution_count": null,
   "metadata": {
    "ExecuteTime": {
     "end_time": "2021-03-20T09:38:39.903932Z",
     "start_time": "2021-03-20T09:38:39.895331Z"
    },
    "hidden": true
   },
   "outputs": [],
   "source": [
    "%%time\n",
    "res = find_same_elements_fast(list1, list2)"
   ]
  },
  {
   "cell_type": "code",
   "execution_count": null,
   "metadata": {
    "ExecuteTime": {
     "end_time": "2021-03-20T09:38:40.931593Z",
     "start_time": "2021-03-20T09:38:40.925890Z"
    },
    "hidden": true
   },
   "outputs": [],
   "source": [
    "res[:10]"
   ]
  },
  {
   "cell_type": "markdown",
   "metadata": {
    "heading_collapsed": true
   },
   "source": [
    "## Полезные встроенные функции python"
   ]
  },
  {
   "cell_type": "code",
   "execution_count": null,
   "metadata": {
    "ExecuteTime": {
     "end_time": "2021-03-20T09:41:30.639955Z",
     "start_time": "2021-03-20T09:41:30.633400Z"
    },
    "hidden": true
   },
   "outputs": [],
   "source": [
    "# range(start, stop, step). Возвращает генератор.\n",
    "a = list(range(11))\n",
    "print(f\"{a = }\")"
   ]
  },
  {
   "cell_type": "code",
   "execution_count": null,
   "metadata": {
    "ExecuteTime": {
     "end_time": "2021-03-20T09:41:44.916228Z",
     "start_time": "2021-03-20T09:41:44.911723Z"
    },
    "hidden": true
   },
   "outputs": [],
   "source": [
    "# map(func, iterable). Возвращает генератор.\n",
    "def add_10(x):\n",
    "    return x + 10\n",
    "\n",
    "print(tuple(map(add_10, a)))\n",
    "\n",
    "# Или через анонимную функцию (lambda)\n",
    "print(tuple(map(lambda x: x * 10, a)))"
   ]
  },
  {
   "cell_type": "code",
   "execution_count": null,
   "metadata": {
    "ExecuteTime": {
     "end_time": "2021-03-20T09:45:48.476878Z",
     "start_time": "2021-03-20T09:45:48.470591Z"
    },
    "hidden": true
   },
   "outputs": [],
   "source": [
    "# filter(func, iterable). Возвращает генератор.\n",
    "print(tuple(filter(lambda x: 2 < x <= 6, a)))"
   ]
  },
  {
   "cell_type": "code",
   "execution_count": null,
   "metadata": {
    "ExecuteTime": {
     "end_time": "2021-03-20T09:48:45.890461Z",
     "start_time": "2021-03-20T09:48:45.885992Z"
    },
    "hidden": true
   },
   "outputs": [],
   "source": [
    "# reduce(func, iterable).\n",
    "# Applies a rolling computation to sequential pairs of values in a list\n",
    "import functools as ft\n",
    "\n",
    "product = 1\n",
    "for num in a[1:]:\n",
    "    product = product * num\n",
    "print(f\"{product = }\")\n",
    "    \n",
    "print(ft.reduce(lambda x, y: x * y, a[1:]))"
   ]
  },
  {
   "cell_type": "code",
   "execution_count": null,
   "metadata": {
    "ExecuteTime": {
     "end_time": "2021-03-20T09:50:54.026597Z",
     "start_time": "2021-03-20T09:50:54.019926Z"
    },
    "hidden": true
   },
   "outputs": [],
   "source": [
    "d = {'a': 1, 'b': 2}\n",
    "list(map(lambda x: x[1] + 1, d.items()))"
   ]
  },
  {
   "cell_type": "markdown",
   "metadata": {},
   "source": [
    "# List comprehension, context manager, работа с файлами"
   ]
  },
  {
   "cell_type": "code",
   "execution_count": null,
   "metadata": {
    "ExecuteTime": {
     "end_time": "2021-03-20T09:55:31.076521Z",
     "start_time": "2021-03-20T09:55:31.068710Z"
    }
   },
   "outputs": [],
   "source": [
    "list1 = [1, 2, 6, 10, 'string1', 56, 'string2']\n",
    "list2 = [10, 20, 6, 100, 'string10', 5, 'string2']\n",
    "\n",
    "result = []\n",
    "for e1 in list1:\n",
    "    for e2 in list2:\n",
    "        if e1 == e2:\n",
    "            result.append(e1)\n",
    "print(\"Result:\", f\"{list(set(result))}\")"
   ]
  },
  {
   "cell_type": "markdown",
   "metadata": {
    "heading_collapsed": true
   },
   "source": [
    "## List comprehension"
   ]
  },
  {
   "cell_type": "markdown",
   "metadata": {
    "hidden": true
   },
   "source": [
    "\"**List comprehensions provide a concise way to create lists.**\n",
    "\n",
    "Common applications are to make new lists where each element is the result of some operations applied to each member of another sequence or iterable, or to create a subsequence of those elements that satisfy a certain condition.\" [read](https://docs.python.org/3/tutorial/datastructures.html)"
   ]
  },
  {
   "cell_type": "code",
   "execution_count": null,
   "metadata": {
    "ExecuteTime": {
     "end_time": "2021-03-20T09:58:31.433361Z",
     "start_time": "2021-03-20T09:58:31.428467Z"
    },
    "hidden": true
   },
   "outputs": [],
   "source": [
    "result = list(set(e1 for e1 in list1 for e2 in list2 if e1 == e2))"
   ]
  },
  {
   "cell_type": "code",
   "execution_count": null,
   "metadata": {
    "ExecuteTime": {
     "end_time": "2021-03-20T09:58:32.135801Z",
     "start_time": "2021-03-20T09:58:32.131288Z"
    },
    "hidden": true
   },
   "outputs": [],
   "source": [
    "result"
   ]
  },
  {
   "cell_type": "code",
   "execution_count": null,
   "metadata": {
    "ExecuteTime": {
     "end_time": "2021-03-20T10:01:35.010310Z",
     "start_time": "2021-03-20T10:01:35.006483Z"
    },
    "hidden": true
   },
   "outputs": [],
   "source": [
    "result = (e1 for e1 in list1 for e2 in list2 if e1 == e2)\n",
    "print(type(result))"
   ]
  },
  {
   "cell_type": "code",
   "execution_count": null,
   "metadata": {
    "ExecuteTime": {
     "end_time": "2021-03-20T10:02:44.499973Z",
     "start_time": "2021-03-20T10:02:44.496107Z"
    },
    "hidden": true
   },
   "outputs": [],
   "source": [
    "result = [e1 for e1 in list1 for e2 in list2 if e1 == e2]\n",
    "print(type(result))"
   ]
  },
  {
   "cell_type": "code",
   "execution_count": null,
   "metadata": {
    "ExecuteTime": {
     "end_time": "2021-03-20T10:02:52.327471Z",
     "start_time": "2021-03-20T10:02:52.316944Z"
    },
    "hidden": true
   },
   "outputs": [],
   "source": [
    "len(list1), len(list2)"
   ]
  },
  {
   "cell_type": "code",
   "execution_count": null,
   "metadata": {
    "ExecuteTime": {
     "end_time": "2021-03-20T10:03:04.584986Z",
     "start_time": "2021-03-20T10:03:04.580413Z"
    },
    "hidden": true
   },
   "outputs": [],
   "source": [
    "result = {k: v for k, v in zip(list1, list2)}\n",
    "print(f\"{result}, type: {type(result)}\")"
   ]
  },
  {
   "cell_type": "markdown",
   "metadata": {},
   "source": [
    "## Работа с файлами и context manager"
   ]
  },
  {
   "cell_type": "code",
   "execution_count": null,
   "metadata": {
    "ExecuteTime": {
     "end_time": "2021-03-20T10:06:39.419956Z",
     "start_time": "2021-03-20T10:06:39.416685Z"
    }
   },
   "outputs": [],
   "source": [
    "from pathlib import Path"
   ]
  },
  {
   "cell_type": "code",
   "execution_count": null,
   "metadata": {
    "ExecuteTime": {
     "end_time": "2021-03-20T10:06:40.442546Z",
     "start_time": "2021-03-20T10:06:40.439235Z"
    }
   },
   "outputs": [],
   "source": [
    "data_path = Path('.', 'data')"
   ]
  },
  {
   "cell_type": "markdown",
   "metadata": {},
   "source": [
    "### Чтение файла с диска"
   ]
  },
  {
   "cell_type": "markdown",
   "metadata": {
    "heading_collapsed": true
   },
   "source": [
    "#### Способ №1 (Обычный)"
   ]
  },
  {
   "cell_type": "code",
   "execution_count": null,
   "metadata": {
    "ExecuteTime": {
     "end_time": "2021-03-20T10:08:17.566430Z",
     "start_time": "2021-03-20T10:08:17.562005Z"
    },
    "hidden": true
   },
   "outputs": [],
   "source": [
    "f = open(data_path / 'user_item.csv')"
   ]
  },
  {
   "cell_type": "code",
   "execution_count": null,
   "metadata": {
    "ExecuteTime": {
     "end_time": "2021-03-20T10:08:41.419945Z",
     "start_time": "2021-03-20T10:08:41.401051Z"
    },
    "hidden": true
   },
   "outputs": [],
   "source": [
    "for line in f:\n",
    "    print(line, end='')"
   ]
  },
  {
   "cell_type": "code",
   "execution_count": null,
   "metadata": {
    "ExecuteTime": {
     "end_time": "2021-03-20T10:09:38.920748Z",
     "start_time": "2021-03-20T10:09:38.918018Z"
    },
    "hidden": true
   },
   "outputs": [],
   "source": [
    "# Почему так происходит?\n",
    "for line in f:\n",
    "    print(line, end='')"
   ]
  },
  {
   "cell_type": "code",
   "execution_count": null,
   "metadata": {
    "ExecuteTime": {
     "end_time": "2021-03-20T10:10:18.873803Z",
     "start_time": "2021-03-20T10:10:18.869570Z"
    },
    "hidden": true
   },
   "outputs": [],
   "source": [
    "f.close()"
   ]
  },
  {
   "cell_type": "code",
   "execution_count": null,
   "metadata": {
    "hidden": true
   },
   "outputs": [],
   "source": []
  },
  {
   "cell_type": "code",
   "execution_count": null,
   "metadata": {
    "ExecuteTime": {
     "end_time": "2021-03-20T10:10:50.881577Z",
     "start_time": "2021-03-20T10:10:50.874745Z"
    },
    "hidden": true
   },
   "outputs": [],
   "source": [
    "# Считаем последовательно по одной строке файла\n",
    "f = open(data_path / 'user_item.csv')\n",
    "print(f.readline(), end='')\n",
    "print(f.readline(), end='')\n",
    "f.close()"
   ]
  },
  {
   "cell_type": "code",
   "execution_count": null,
   "metadata": {
    "hidden": true
   },
   "outputs": [],
   "source": []
  },
  {
   "cell_type": "code",
   "execution_count": null,
   "metadata": {
    "ExecuteTime": {
     "end_time": "2021-03-20T10:11:33.732306Z",
     "start_time": "2021-03-20T10:11:33.726294Z"
    },
    "hidden": true
   },
   "outputs": [],
   "source": [
    "# Считаем содержимое файла в tuple\n",
    "f = open(data_path / 'user_item.csv')\n",
    "lines = tuple(line for line in f)\n",
    "f.close()\n",
    "\n",
    "# \\n нам не нужны\n",
    "print(lines)"
   ]
  },
  {
   "cell_type": "code",
   "execution_count": null,
   "metadata": {
    "ExecuteTime": {
     "end_time": "2021-03-20T10:12:15.490146Z",
     "start_time": "2021-03-20T10:12:15.477761Z"
    },
    "hidden": true
   },
   "outputs": [],
   "source": [
    "# Считаем содержимое файла в tuple, чистим каждую строку от ненужных символов\n",
    "f = open(data_path / 'user_item.csv')\n",
    "lines = tuple(line.strip() for line in f)\n",
    "f.close()\n",
    "\n",
    "# \\n нам не нужны\n",
    "print(lines)"
   ]
  },
  {
   "cell_type": "markdown",
   "metadata": {
    "heading_collapsed": true
   },
   "source": [
    "#### Задача"
   ]
  },
  {
   "cell_type": "markdown",
   "metadata": {
    "hidden": true,
    "solution2": "shown",
    "solution2_first": true
   },
   "source": [
    "Необходимо считать содержимое файла в структуру вида:\n",
    "```python\n",
    "[\n",
    "    {'user': 'u1', 'item': 'i1', 'r': 1},\n",
    "    {'user': 'u1', 'item': 'i3', 'r': 2},\n",
    "    {'user': 'u2', 'item': 'i2', 'r': 1},\n",
    "    {'user': 'u2', 'item': 'i3', 'r': 3},\n",
    "    {'user': 'u3', 'item': 'i1', 'r': 4},\n",
    "    {'user': 'u3', 'item': 'i4', 'r': 5},\n",
    "    {'user': 'u3', 'item': 'i2', 'r': 2},\n",
    "]\n",
    "```\n",
    "Для разделения строки по символу \",\" используйте метод строки ```string.split(\",\")```, который возвращает list **(10 мин).**"
   ]
  },
  {
   "cell_type": "code",
   "execution_count": null,
   "metadata": {
    "ExecuteTime": {
     "end_time": "2021-03-20T10:34:08.489017Z",
     "start_time": "2021-03-20T10:34:08.478410Z"
    },
    "hidden": true,
    "solution2": "shown"
   },
   "outputs": [],
   "source": [
    "f = open(data_path / 'user_item.csv')\n",
    "\n",
    "header = f.readline().strip().split(\",\")\n",
    "\n",
    "data = []\n",
    "for line in f:\n",
    "    user, item, r = line.strip().split(\",\")\n",
    "    data.append({header[0]: user, header[1]: item, header[2]: int(r)})\n",
    "print(f\"{data}\")\n",
    "\n",
    "f.close()"
   ]
  },
  {
   "cell_type": "markdown",
   "metadata": {
    "heading_collapsed": true
   },
   "source": [
    "#### Способ №2 (Context manager)"
   ]
  },
  {
   "cell_type": "code",
   "execution_count": null,
   "metadata": {
    "ExecuteTime": {
     "end_time": "2021-03-20T10:39:26.642701Z",
     "start_time": "2021-03-20T10:39:26.637766Z"
    },
    "code_folding": [],
    "hidden": true
   },
   "outputs": [],
   "source": [
    "# Избавимся от постоянного закрывания файла.\n",
    "# Context manager - это класс, который реализует методы __enter__() и __exit__().\n",
    "# Можно воспользоваться знаниями о генераторах.\n",
    "from contextlib import contextmanager\n",
    "\n",
    "@contextmanager\n",
    "def open_file(file_path):\n",
    "    f = open(file_path)\n",
    "    try:\n",
    "        print(\"Файл открыт\")\n",
    "        yield f\n",
    "    finally:\n",
    "        print(\"Файл закрыт\")\n",
    "        f.close()\n",
    "\n",
    "# О декораторах (decorators) и context manager подробнее в документации Python"
   ]
  },
  {
   "cell_type": "code",
   "execution_count": null,
   "metadata": {
    "ExecuteTime": {
     "end_time": "2021-03-20T10:39:45.975052Z",
     "start_time": "2021-03-20T10:39:45.970651Z"
    },
    "hidden": true,
    "solution2": "shown",
    "solution2_first": true
   },
   "outputs": [],
   "source": [
    "# Теперь можно использовать оператор with\n",
    "\n",
    "with open_file(data_path / 'user_item.csv') as f_in:\n",
    "    lines = tuple(line.strip() for line in f_in)\n",
    "print()\n",
    "print(lines)"
   ]
  },
  {
   "cell_type": "code",
   "execution_count": null,
   "metadata": {
    "ExecuteTime": {
     "end_time": "2021-03-20T10:43:21.082579Z",
     "start_time": "2021-03-20T10:43:21.076638Z"
    },
    "hidden": true,
    "solution2": "shown"
   },
   "outputs": [],
   "source": [
    "# Python за нас уже позаботился\n",
    "\n",
    "with (data_path / 'user_item.csv').open() as f_in:\n",
    "    lines = tuple(line.strip() for line in f_in)\n",
    "print(lines)"
   ]
  },
  {
   "cell_type": "markdown",
   "metadata": {
    "heading_collapsed": true
   },
   "source": [
    "#### Способ №3 (готовя библиотека для работы с csv)"
   ]
  },
  {
   "cell_type": "code",
   "execution_count": null,
   "metadata": {
    "ExecuteTime": {
     "end_time": "2021-03-20T10:44:29.462766Z",
     "start_time": "2021-03-20T10:44:29.455798Z"
    },
    "hidden": true
   },
   "outputs": [],
   "source": [
    "import csv"
   ]
  },
  {
   "cell_type": "code",
   "execution_count": null,
   "metadata": {
    "ExecuteTime": {
     "end_time": "2021-03-20T10:44:34.483331Z",
     "start_time": "2021-03-20T10:44:34.475689Z"
    },
    "hidden": true
   },
   "outputs": [],
   "source": [
    "with (data_path / 'user_item.csv').open() as csvfile:\n",
    "    reader = csv.DictReader(csvfile)\n",
    "    \n",
    "    data = []\n",
    "    for row in reader:\n",
    "        row['r'] = int(row['r'])\n",
    "        data.append(row)\n",
    "print(data)"
   ]
  },
  {
   "cell_type": "markdown",
   "metadata": {},
   "source": [
    "### Запись в файл"
   ]
  },
  {
   "cell_type": "code",
   "execution_count": null,
   "metadata": {
    "ExecuteTime": {
     "end_time": "2021-03-20T10:46:51.972290Z",
     "start_time": "2021-03-20T10:46:51.963840Z"
    }
   },
   "outputs": [],
   "source": [
    "# Сделаем backup файлов\n",
    "import shutil\n",
    "\n",
    "src = data_path / 'user_item.csv'\n",
    "dst = data_path / 'user_item_bak.csv'\n",
    "shutil.copy(src, dst)\n",
    "\n",
    "src = data_path / 'user_features.csv'\n",
    "dst = data_path / 'user_features_bak.csv'\n",
    "shutil.copy(src, dst);"
   ]
  },
  {
   "cell_type": "markdown",
   "metadata": {
    "heading_collapsed": true
   },
   "source": [
    "#### Способ №1"
   ]
  },
  {
   "cell_type": "code",
   "execution_count": null,
   "metadata": {
    "ExecuteTime": {
     "end_time": "2021-03-20T10:48:12.554262Z",
     "start_time": "2021-03-20T10:48:12.550536Z"
    },
    "hidden": true
   },
   "outputs": [],
   "source": [
    "with (data_path / 'user_item.csv').open('a') as f_out:\n",
    "    f_out.write(\"u2,i6,3\\n\")"
   ]
  },
  {
   "cell_type": "markdown",
   "metadata": {
    "heading_collapsed": true
   },
   "source": [
    "#### Способ №2"
   ]
  },
  {
   "cell_type": "code",
   "execution_count": null,
   "metadata": {
    "ExecuteTime": {
     "end_time": "2021-03-20T10:49:47.033626Z",
     "start_time": "2021-03-20T10:49:47.026038Z"
    },
    "hidden": true
   },
   "outputs": [],
   "source": [
    "with (data_path / 'user_item.csv').open('a') as f_out:\n",
    "    fieldnames = ['user', 'item', 'r']\n",
    "    writer = csv.DictWriter(f_out, fieldnames=fieldnames)\n",
    "    writer.writerow({'user': 'u2', 'item': 'i4', 'r': 5})"
   ]
  },
  {
   "cell_type": "markdown",
   "metadata": {},
   "source": [
    "#### Задача"
   ]
  },
  {
   "cell_type": "markdown",
   "metadata": {
    "solution2": "shown",
    "solution2_first": true
   },
   "source": [
    "Напишите код, добавляющий в файл `user_item.csv` нового пользователя `u4`, оценившего item `i5` оценкой `1`.\n",
    "Добавте профиль пользователя в файл `user_features.csv` со значением поля `loc == \"msk\"` и произвольными полями `f1, f2, f3` со значениями из `{0, 1}` **(10 мин).**"
   ]
  },
  {
   "cell_type": "code",
   "execution_count": null,
   "metadata": {
    "ExecuteTime": {
     "end_time": "2021-03-20T11:02:42.176110Z",
     "start_time": "2021-03-20T11:02:42.155659Z"
    },
    "solution2": "shown"
   },
   "outputs": [],
   "source": [
    "file1 = data_path / 'user_item.csv'\n",
    "file2 = data_path / 'user_features.csv'\n",
    "\n",
    "with file1.open('a') as f_out:\n",
    "    fieldnames = ['user', 'item', 'r']\n",
    "    writer = csv.DictWriter(f_out, fieldnames=fieldnames)\n",
    "    writer.writerow({'user': 'u4', 'item': 'i5', 'r': 1})\n",
    "    \n",
    "\n",
    "with file2.open('a') as f_out:\n",
    "    fieldnames = ['user', 'f1', 'f2', 'f3', 'loc']\n",
    "    writer = csv.DictWriter(f_out, fieldnames=fieldnames)\n",
    "    writer.writerow({\n",
    "        'user': 'u4',\n",
    "        'f1': random.randint(0, 1),\n",
    "        'f2': random.randint(0, 1),\n",
    "        'f3': random.randint(0, 1),\n",
    "        'loc': 'msk',\n",
    "    })\n",
    "    \n",
    "with file1.open() as f1_in, file2.open() as f2_in:\n",
    "    reader1, reader2 = csv.DictReader(f1_in), csv.DictReader(f2_in)\n",
    "    print(f\"File: {file1.name}\")\n",
    "    for row in reader1:\n",
    "        print(' '*3, row)\n",
    "        \n",
    "    print()\n",
    "    print(f\"File: {file2.name}\")\n",
    "    for row in reader2:\n",
    "        print(' '*3, row)"
   ]
  },
  {
   "cell_type": "markdown",
   "metadata": {},
   "source": [
    "# Подготовка пользовательских признаков для библиотеки LightFM"
   ]
  },
  {
   "cell_type": "code",
   "execution_count": null,
   "metadata": {
    "ExecuteTime": {
     "end_time": "2021-03-19T10:07:25.082617Z",
     "start_time": "2021-03-19T10:07:25.075699Z"
    }
   },
   "outputs": [],
   "source": [
    "with (data_path / 'user_features.csv').open() as f_in:\n",
    "    reader = csv.DictReader(f_in)\n",
    "    user_features_raw = [row for row in reader]"
   ]
  },
  {
   "cell_type": "code",
   "execution_count": null,
   "metadata": {
    "ExecuteTime": {
     "end_time": "2021-03-19T10:07:26.270727Z",
     "start_time": "2021-03-19T10:07:26.265467Z"
    }
   },
   "outputs": [],
   "source": [
    "user_features_raw"
   ]
  },
  {
   "cell_type": "markdown",
   "metadata": {
    "ExecuteTime": {
     "end_time": "2020-09-29T15:45:34.130396Z",
     "start_time": "2020-09-29T15:45:34.127166Z"
    }
   },
   "source": [
    "На первом этапе необходимо сделать генератор/итератор `(user_id, item_id)`"
   ]
  },
  {
   "cell_type": "code",
   "execution_count": null,
   "metadata": {
    "ExecuteTime": {
     "end_time": "2021-03-19T10:07:49.435203Z",
     "start_time": "2021-03-19T10:07:49.432339Z"
    }
   },
   "outputs": [],
   "source": [
    "def user_item_gen(file_path):\n",
    "    with file_path.open() as f_in:\n",
    "        reader = csv.DictReader(f_in)\n",
    "        for row in reader:\n",
    "            yield row['user'], row['item']"
   ]
  },
  {
   "cell_type": "code",
   "execution_count": null,
   "metadata": {
    "ExecuteTime": {
     "end_time": "2021-03-19T10:07:50.347962Z",
     "start_time": "2021-03-19T10:07:50.338757Z"
    }
   },
   "outputs": [],
   "source": [
    "list(user_item_gen(data_path / 'user_item.csv'))"
   ]
  },
  {
   "cell_type": "markdown",
   "metadata": {
    "ExecuteTime": {
     "end_time": "2020-09-29T15:39:20.407882Z",
     "start_time": "2020-09-29T15:39:20.406043Z"
    }
   },
   "source": [
    "## Задача"
   ]
  },
  {
   "cell_type": "markdown",
   "metadata": {
    "solution2": "hidden",
    "solution2_first": true
   },
   "source": [
    "На первом этапе необходимо создать словарь признаков. Названия признаков лучше выбирать в таком виде <'feature_name:feature_value'>. Т.е. для нашего набора данных может получиться (одну строку мы добавили случайно) **(10 мин)**:\n",
    "\n",
    "```\n",
    "{'f1:1', 'f1:0', 'f2:1', 'f2:0', 'f3:1', 'f3:0', 'loc:msk', 'loc:ekat'}\n",
    "```"
   ]
  },
  {
   "cell_type": "code",
   "execution_count": null,
   "metadata": {
    "ExecuteTime": {
     "end_time": "2021-03-19T10:09:49.035561Z",
     "start_time": "2021-03-19T10:09:49.029394Z"
    },
    "solution2": "hidden"
   },
   "outputs": [],
   "source": [
    "features_vocab = set()\n",
    "for row in user_features_raw:\n",
    "    features_row = set([\n",
    "        ':'.join(pair)\n",
    "        for pair in row.items() if pair[0] != 'user' \n",
    "    ])\n",
    "    features_vocab |= features_row # union"
   ]
  },
  {
   "cell_type": "code",
   "execution_count": null,
   "metadata": {
    "ExecuteTime": {
     "end_time": "2021-03-19T10:09:49.529818Z",
     "start_time": "2021-03-19T10:09:49.524460Z"
    },
    "solution2": "hidden"
   },
   "outputs": [],
   "source": [
    "features_vocab"
   ]
  },
  {
   "cell_type": "markdown",
   "metadata": {},
   "source": [
    "## Задача"
   ]
  },
  {
   "cell_type": "markdown",
   "metadata": {
    "solution2": "hidden",
    "solution2_first": true
   },
   "source": [
    "На втором этапе необходимо создать генератор/итератор, который выдает данные по признакам для пользователя в таком виде **(10 мин)**:\n",
    "\n",
    "```\n",
    "(user_id, ['f1:1', 'f2:1', 'f3:0', 'loc:msk'])\n",
    "```"
   ]
  },
  {
   "cell_type": "code",
   "execution_count": null,
   "metadata": {
    "ExecuteTime": {
     "end_time": "2021-03-19T10:11:31.601530Z",
     "start_time": "2021-03-19T10:11:31.597568Z"
    },
    "solution2": "hidden"
   },
   "outputs": [],
   "source": [
    "def user_features_gen(data):\n",
    "    for row in data:\n",
    "        user_id = row['user']\n",
    "        u_features = [':'.join(pair) for pair in row.items() if pair[0] != 'user']\n",
    "        yield user_id, u_features"
   ]
  },
  {
   "cell_type": "code",
   "execution_count": null,
   "metadata": {
    "ExecuteTime": {
     "end_time": "2021-03-19T10:11:32.228220Z",
     "start_time": "2021-03-19T10:11:32.221321Z"
    },
    "solution2": "hidden"
   },
   "outputs": [],
   "source": [
    "list(user_features_gen(user_features_raw))"
   ]
  },
  {
   "cell_type": "code",
   "execution_count": null,
   "metadata": {},
   "outputs": [],
   "source": []
  }
 ],
 "metadata": {
  "kernelspec": {
   "display_name": "Python 3",
   "language": "python",
   "name": "python3"
  },
  "language_info": {
   "codemirror_mode": {
    "name": "ipython",
    "version": 3
   },
   "file_extension": ".py",
   "mimetype": "text/x-python",
   "name": "python",
   "nbconvert_exporter": "python",
   "pygments_lexer": "ipython3",
   "version": "3.8.7"
  },
  "toc": {
   "base_numbering": 1,
   "nav_menu": {
    "height": "458px",
    "width": "530px"
   },
   "number_sections": true,
   "sideBar": true,
   "skip_h1_title": false,
   "title_cell": "Table of Contents",
   "title_sidebar": "Contents",
   "toc_cell": false,
   "toc_position": {
    "height": "calc(100% - 180px)",
    "left": "10px",
    "top": "150px",
    "width": "384px"
   },
   "toc_section_display": true,
   "toc_window_display": true
  }
 },
 "nbformat": 4,
 "nbformat_minor": 4
}
