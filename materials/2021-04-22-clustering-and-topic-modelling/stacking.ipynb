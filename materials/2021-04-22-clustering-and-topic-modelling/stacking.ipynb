{
 "cells": [
  {
   "cell_type": "markdown",
   "metadata": {},
   "source": [
    "### Определение\n",
    "\n",
    "Анасамбль -- алгоритм, который состоит из нескольких алгоритмво машинного обучения.\n",
    "\n",
    "Общий вид такого алгоритма: $$f(x) = d(h_1(x), h_2(x), \\dots, h_n(x))$$\n",
    "\n",
    "где $h_i(x)$ - i-й используемый базовый алгоритм, $d$ - функция аггрегации (решающее правило)"
   ]
  },
  {
   "cell_type": "markdown",
   "metadata": {},
   "source": [
    "**Блендинг (блендинг)** -- \"простая\" копозиция алгоритмов. Обычно под этим понимаю обобщенное среднее ответов нескольких алгоритмов.\n",
    "\n",
    "_Примеры: среднее арифметическое, среднее геометрическое, среднее ранков и т.д._"
   ]
  },
  {
   "cell_type": "markdown",
   "metadata": {},
   "source": [
    "# А что если..."
   ]
  },
  {
   "cell_type": "markdown",
   "metadata": {},
   "source": [
    "<center><img src='img/what-if.jpeg'><center/>"
   ]
  },
  {
   "cell_type": "markdown",
   "metadata": {},
   "source": [
    "Рассмотрим ситуацию с такой точки зрения:\n",
    "* $h_1, h_2, \\dots, h_n$ - некоторые признаки \n",
    "* есть целевые метки,\n",
    "* нужно обучить функцию $d$, которая по признакам будет предсказывать метки.\n",
    "\n",
    "Знакомо звучит? Это в чистом виде задача машинного обучения, в качестве $d$ можно взять любой алгоритм"
   ]
  },
  {
   "cell_type": "markdown",
   "metadata": {},
   "source": [
    "# А что если..."
   ]
  },
  {
   "cell_type": "markdown",
   "metadata": {},
   "source": [
    "<center><img src='img/d-is-a-new-h.jpg'><center/>"
   ]
  },
  {
   "cell_type": "markdown",
   "metadata": {},
   "source": [
    "Пусть мы построили несколько решающих правил $d_1, d_2, \\dots, d_n$.\n",
    "\n",
    "Теперь мы можем их рассматривать в качестве $h_i$ и снова учить решающее правило.\n",
    "\n",
    "И снова...\n",
    "\n",
    "И снова..."
   ]
  },
  {
   "cell_type": "markdown",
   "metadata": {},
   "source": [
    "## Примеры схем ансамблей от призеров соревнований\n",
    "\n",
    "<br>\n",
    "<center><img src='https://i2.wp.com/blog.kaggle.com/wp-content/uploads/2017/06/image8.jpg?w=638'><center/>\n",
    "<br>\n",
    "<center><img src='img/otto_ens.png'><center/>\n",
    "<br>    \n",
    "<center><img src='img/otto_2nd.png'><center/>\n",
    "<br>"
   ]
  },
  {
   "cell_type": "markdown",
   "metadata": {},
   "source": [
    "# Плюсы/минусы/свойства"
   ]
  },
  {
   "cell_type": "markdown",
   "metadata": {},
   "source": [
    "- (+) дает рост качества (типично на 1-3%)\n",
    "- (-) сложно обучать (время, больше кода)\n",
    "- (-) сложно использовать и поддерживать\n",
    "- (-) очень легко переобучиться\n",
    "- Прирост в качестве затухает с увеличением глубины стекинга\n",
    "- Требует разнообразия базовых классификаторов"
   ]
  },
  {
   "cell_type": "markdown",
   "metadata": {},
   "source": [
    "# Как обучают ансамбли"
   ]
  },
  {
   "cell_type": "markdown",
   "metadata": {},
   "source": [
    "Прямолиненый (надежный) подход:\n",
    "1. Разбивают данные на 3 множества -- A, B, C\n",
    "2. Учат базовые модели $h_i$ на датасете A, предсказывают для B и C\n",
    "3. На предсказаниях для B обучают модель второго уровня (решающее правило $d$)\n",
    "4. Используют $d$ для получения финальных предсказаний для C"
   ]
  },
  {
   "cell_type": "markdown",
   "metadata": {},
   "source": [
    "Проблема -- обучающее множество приходится делить на 2. А если данных не очень много? Можно ли этого избежать?\n",
    "\n",
    "_Вопрос: Какое основное правило валидации? Как работает кросс-валидация?_"
   ]
  }
 ],
 "metadata": {
  "kernelspec": {
   "display_name": "Python 3",
   "language": "python",
   "name": "python3"
  },
  "language_info": {
   "codemirror_mode": {
    "name": "ipython",
    "version": 3
   },
   "file_extension": ".py",
   "mimetype": "text/x-python",
   "name": "python",
   "nbconvert_exporter": "python",
   "pygments_lexer": "ipython3",
   "version": "3.6.9"
  },
  "toc": {
   "base_numbering": 1,
   "nav_menu": {},
   "number_sections": true,
   "sideBar": true,
   "skip_h1_title": false,
   "title_cell": "Table of Contents",
   "title_sidebar": "Contents",
   "toc_cell": false,
   "toc_position": {},
   "toc_section_display": true,
   "toc_window_display": false
  }
 },
 "nbformat": 4,
 "nbformat_minor": 2
}
