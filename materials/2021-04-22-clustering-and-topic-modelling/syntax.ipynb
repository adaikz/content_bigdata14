{
 "cells": [
  {
   "cell_type": "code",
   "execution_count": 1,
   "metadata": {},
   "outputs": [],
   "source": [
    "# Подключаем синтаксической анализатор и его части.\n",
    "import ufal.udpipe\n",
    "from ufal.udpipe import Model, Pipeline, ProcessingError"
   ]
  },
  {
   "cell_type": "code",
   "execution_count": 2,
   "metadata": {},
   "outputs": [],
   "source": [
    "model = Model.load(\"russian-syntagrus-ud-2.4-190531.udpipe\")"
   ]
  },
  {
   "cell_type": "code",
   "execution_count": 3,
   "metadata": {},
   "outputs": [],
   "source": [
    "# Токенизатор со снятием омонимии.\n",
    "tokenizer = model.newTokenizer(model.DEFAULT)\n",
    "# Объект для отображения результатов разбора.\n",
    "conlluOutput = ufal.udpipe.OutputFormat.newOutputFormat(\"conllu\")\n",
    "# Объект предложения, в которое будет осуществляться разбор.\n",
    "sentence = ufal.udpipe.Sentence()\n",
    "# Объект для ошибок, возникающих в ходе разбора.\n",
    "error = ufal.udpipe.ProcessingError()"
   ]
  },
  {
   "cell_type": "code",
   "execution_count": 4,
   "metadata": {},
   "outputs": [],
   "source": [
    "tokenizer.setText(\"Вкусная и молодая свекла.\");"
   ]
  },
  {
   "cell_type": "code",
   "execution_count": 5,
   "metadata": {},
   "outputs": [
    {
     "name": "stdout",
     "output_type": "stream",
     "text": [
      "# newdoc\n",
      "# newpar\n",
      "# sent_id = 1\n",
      "# text = Вкусная и молодая свекла.\n",
      "1\tВкусная\tвкусный\tADJ\t_\tCase=Nom|Degree=Pos|Gender=Fem|Number=Sing\t4\tamod\t_\t_\n",
      "2\tи\tи\tCCONJ\t_\t_\t3\tcc\t_\t_\n",
      "3\tмолодая\tмолодой\tADJ\t_\tCase=Nom|Degree=Pos|Gender=Fem|Number=Sing\t1\tconj\t_\t_\n",
      "4\tсвекла\tсвекла\tNOUN\t_\tAnimacy=Inan|Case=Nom|Gender=Fem|Number=Sing\t0\troot\t_\tSpaceAfter=No\n",
      "5\t.\t.\tPUNCT\t_\t_\t4\tpunct\t_\tSpaceAfter=No\n",
      "\n",
      "\n"
     ]
    }
   ],
   "source": [
    "# Токенизация.\n",
    "tokenizer.nextSentence(sentence, error)\n",
    "# Морфологичекий анализ со снятием омонимии.\n",
    "model.tag(sentence, model.DEFAULT)\n",
    "# Синтаксический анализ.\n",
    "model.parse(sentence, model.DEFAULT)\n",
    "# Отображение результатов.\n",
    "print(conlluOutput.writeSentence(sentence))"
   ]
  },
  {
   "cell_type": "code",
   "execution_count": 24,
   "metadata": {},
   "outputs": [],
   "source": [
    "import pandas as pd"
   ]
  },
  {
   "cell_type": "code",
   "execution_count": 25,
   "metadata": {},
   "outputs": [
    {
     "data": {
      "text/html": [
       "<div>\n",
       "<style scoped>\n",
       "    .dataframe tbody tr th:only-of-type {\n",
       "        vertical-align: middle;\n",
       "    }\n",
       "\n",
       "    .dataframe tbody tr th {\n",
       "        vertical-align: top;\n",
       "    }\n",
       "\n",
       "    .dataframe thead th {\n",
       "        text-align: right;\n",
       "    }\n",
       "</style>\n",
       "<table border=\"1\" class=\"dataframe\">\n",
       "  <thead>\n",
       "    <tr style=\"text-align: right;\">\n",
       "      <th></th>\n",
       "      <th>0</th>\n",
       "      <th>1</th>\n",
       "      <th>2</th>\n",
       "      <th>3</th>\n",
       "      <th>4</th>\n",
       "      <th>5</th>\n",
       "      <th>6</th>\n",
       "      <th>7</th>\n",
       "      <th>8</th>\n",
       "      <th>9</th>\n",
       "    </tr>\n",
       "  </thead>\n",
       "  <tbody>\n",
       "    <tr>\n",
       "      <th>0</th>\n",
       "      <td># sent_id = 3</td>\n",
       "      <td>None</td>\n",
       "      <td>None</td>\n",
       "      <td>None</td>\n",
       "      <td>None</td>\n",
       "      <td>None</td>\n",
       "      <td>None</td>\n",
       "      <td>None</td>\n",
       "      <td>None</td>\n",
       "      <td>None</td>\n",
       "    </tr>\n",
       "    <tr>\n",
       "      <th>1</th>\n",
       "      <td># text = Вкусная и молодая свекла.</td>\n",
       "      <td>None</td>\n",
       "      <td>None</td>\n",
       "      <td>None</td>\n",
       "      <td>None</td>\n",
       "      <td>None</td>\n",
       "      <td>None</td>\n",
       "      <td>None</td>\n",
       "      <td>None</td>\n",
       "      <td>None</td>\n",
       "    </tr>\n",
       "    <tr>\n",
       "      <th>2</th>\n",
       "      <td>1</td>\n",
       "      <td>Вкусная</td>\n",
       "      <td>вкусный</td>\n",
       "      <td>ADJ</td>\n",
       "      <td>_</td>\n",
       "      <td>Case=Nom|Degree=Pos|Gender=Fem|Number=Sing</td>\n",
       "      <td>4</td>\n",
       "      <td>amod</td>\n",
       "      <td>_</td>\n",
       "      <td>_</td>\n",
       "    </tr>\n",
       "    <tr>\n",
       "      <th>3</th>\n",
       "      <td>2</td>\n",
       "      <td>и</td>\n",
       "      <td>и</td>\n",
       "      <td>CCONJ</td>\n",
       "      <td>_</td>\n",
       "      <td>_</td>\n",
       "      <td>3</td>\n",
       "      <td>cc</td>\n",
       "      <td>_</td>\n",
       "      <td>_</td>\n",
       "    </tr>\n",
       "    <tr>\n",
       "      <th>4</th>\n",
       "      <td>3</td>\n",
       "      <td>молодая</td>\n",
       "      <td>молодой</td>\n",
       "      <td>ADJ</td>\n",
       "      <td>_</td>\n",
       "      <td>Case=Nom|Degree=Pos|Gender=Fem|Number=Sing</td>\n",
       "      <td>1</td>\n",
       "      <td>conj</td>\n",
       "      <td>_</td>\n",
       "      <td>_</td>\n",
       "    </tr>\n",
       "    <tr>\n",
       "      <th>5</th>\n",
       "      <td>4</td>\n",
       "      <td>свекла</td>\n",
       "      <td>свекла</td>\n",
       "      <td>NOUN</td>\n",
       "      <td>_</td>\n",
       "      <td>Animacy=Inan|Case=Nom|Gender=Fem|Number=Sing</td>\n",
       "      <td>0</td>\n",
       "      <td>root</td>\n",
       "      <td>_</td>\n",
       "      <td>SpaceAfter=No</td>\n",
       "    </tr>\n",
       "    <tr>\n",
       "      <th>6</th>\n",
       "      <td>5</td>\n",
       "      <td>.</td>\n",
       "      <td>.</td>\n",
       "      <td>PUNCT</td>\n",
       "      <td>_</td>\n",
       "      <td>_</td>\n",
       "      <td>4</td>\n",
       "      <td>punct</td>\n",
       "      <td>_</td>\n",
       "      <td>SpaceAfter=No</td>\n",
       "    </tr>\n",
       "    <tr>\n",
       "      <th>7</th>\n",
       "      <td></td>\n",
       "      <td>None</td>\n",
       "      <td>None</td>\n",
       "      <td>None</td>\n",
       "      <td>None</td>\n",
       "      <td>None</td>\n",
       "      <td>None</td>\n",
       "      <td>None</td>\n",
       "      <td>None</td>\n",
       "      <td>None</td>\n",
       "    </tr>\n",
       "    <tr>\n",
       "      <th>8</th>\n",
       "      <td></td>\n",
       "      <td>None</td>\n",
       "      <td>None</td>\n",
       "      <td>None</td>\n",
       "      <td>None</td>\n",
       "      <td>None</td>\n",
       "      <td>None</td>\n",
       "      <td>None</td>\n",
       "      <td>None</td>\n",
       "      <td>None</td>\n",
       "    </tr>\n",
       "  </tbody>\n",
       "</table>\n",
       "</div>"
      ],
      "text/plain": [
       "                                    0        1        2      3     4  \\\n",
       "0                       # sent_id = 3     None     None   None  None   \n",
       "1  # text = Вкусная и молодая свекла.     None     None   None  None   \n",
       "2                                   1  Вкусная  вкусный    ADJ     _   \n",
       "3                                   2        и        и  CCONJ     _   \n",
       "4                                   3  молодая  молодой    ADJ     _   \n",
       "5                                   4   свекла   свекла   NOUN     _   \n",
       "6                                   5        .        .  PUNCT     _   \n",
       "7                                         None     None   None  None   \n",
       "8                                         None     None   None  None   \n",
       "\n",
       "                                              5     6      7     8  \\\n",
       "0                                          None  None   None  None   \n",
       "1                                          None  None   None  None   \n",
       "2    Case=Nom|Degree=Pos|Gender=Fem|Number=Sing     4   amod     _   \n",
       "3                                             _     3     cc     _   \n",
       "4    Case=Nom|Degree=Pos|Gender=Fem|Number=Sing     1   conj     _   \n",
       "5  Animacy=Inan|Case=Nom|Gender=Fem|Number=Sing     0   root     _   \n",
       "6                                             _     4  punct     _   \n",
       "7                                          None  None   None  None   \n",
       "8                                          None  None   None  None   \n",
       "\n",
       "               9  \n",
       "0           None  \n",
       "1           None  \n",
       "2              _  \n",
       "3              _  \n",
       "4              _  \n",
       "5  SpaceAfter=No  \n",
       "6  SpaceAfter=No  \n",
       "7           None  \n",
       "8           None  "
      ]
     },
     "execution_count": 25,
     "metadata": {},
     "output_type": "execute_result"
    }
   ],
   "source": [
    "pd.DataFrame([x.split('\\t') for x in conlluOutput.writeSentence(sentence).split('\\n')])"
   ]
  },
  {
   "cell_type": "code",
   "execution_count": null,
   "metadata": {},
   "outputs": [],
   "source": []
  },
  {
   "cell_type": "code",
   "execution_count": null,
   "metadata": {},
   "outputs": [],
   "source": []
  },
  {
   "cell_type": "code",
   "execution_count": 9,
   "metadata": {},
   "outputs": [
    {
     "name": "stdout",
     "output_type": "stream",
     "text": [
      "\n",
      "\n"
     ]
    }
   ],
   "source": [
    "tokenizer.nextSentence(sentence, error)\n",
    "\n",
    "model.tag(sentence, model.DEFAULT)\n",
    "model.parse(sentence, model.DEFAULT)\n",
    "\n",
    "print(conlluOutput.writeSentence(sentence))"
   ]
  },
  {
   "cell_type": "code",
   "execution_count": null,
   "metadata": {},
   "outputs": [],
   "source": []
  }
 ],
 "metadata": {
  "kernelspec": {
   "display_name": "Python 3",
   "language": "python",
   "name": "python3"
  },
  "language_info": {
   "codemirror_mode": {
    "name": "ipython",
    "version": 3
   },
   "file_extension": ".py",
   "mimetype": "text/x-python",
   "name": "python",
   "nbconvert_exporter": "python",
   "pygments_lexer": "ipython3",
   "version": "3.6.9"
  }
 },
 "nbformat": 4,
 "nbformat_minor": 2
}
