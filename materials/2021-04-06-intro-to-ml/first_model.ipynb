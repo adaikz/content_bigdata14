{
 "cells": [
  {
   "cell_type": "code",
   "execution_count": 99,
   "metadata": {},
   "outputs": [],
   "source": [
    "import pandas as pd                      # ипортируем пандас"
   ]
  },
  {
   "cell_type": "code",
   "execution_count": 100,
   "metadata": {},
   "outputs": [],
   "source": [
    "df = pd.read_csv('UCI_Credit_Card.csv')  # читаем файл по дефолтам"
   ]
  },
  {
   "cell_type": "code",
   "execution_count": 101,
   "metadata": {},
   "outputs": [],
   "source": [
    "y = df['default.payment.next.month']     # считываем в файл "
   ]
  },
  {
   "cell_type": "code",
   "execution_count": 102,
   "metadata": {},
   "outputs": [
    {
     "name": "stderr",
     "output_type": "stream",
     "text": [
      "/home/jupyterhub/jupyterhub_venv/lib/python3.6/site-packages/sklearn/linear_model/logistic.py:432: FutureWarning: Default solver will be changed to 'lbfgs' in 0.22. Specify a solver to silence this warning.\n",
      "  FutureWarning)\n"
     ]
    }
   ],
   "source": [
    "from sklearn.linear_model import LogisticRegression                # ипортируем модель машинного обучения \n",
    "                                                                   # (неважно какую, для нас это пока черный ящик)\n",
    "lr = LogisticRegression(penalty='l1')                              # объявляем эту модель с каким-то параметром\n",
    "                                                                   # важно следующее\n",
    "lr.fit(df, y)                                                      # одной строчкой обучаем\n",
    "pred = lr.predict(df)                                              # одной строчкой получаем предсказания"
   ]
  },
  {
   "cell_type": "code",
   "execution_count": 103,
   "metadata": {},
   "outputs": [
    {
     "name": "stdout",
     "output_type": "stream",
     "text": [
      "precision 1.0\n",
      "recall 1.0\n",
      "f1 1.0\n"
     ]
    }
   ],
   "source": [
    "from sklearn.metrics import precision_score, recall_score, f1_score\n",
    "\n",
    "print('precision', precision_score(y, pred))\n",
    "print('recall', recall_score(y, pred))\n",
    "print('f1', f1_score(y, pred))"
   ]
  },
  {
   "cell_type": "markdown",
   "metadata": {},
   "source": [
    "## Подозретельно хорошее качество"
   ]
  },
  {
   "cell_type": "code",
   "execution_count": 104,
   "metadata": {},
   "outputs": [
    {
     "data": {
      "text/html": [
       "<div>\n",
       "<style scoped>\n",
       "    .dataframe tbody tr th:only-of-type {\n",
       "        vertical-align: middle;\n",
       "    }\n",
       "\n",
       "    .dataframe tbody tr th {\n",
       "        vertical-align: top;\n",
       "    }\n",
       "\n",
       "    .dataframe thead th {\n",
       "        text-align: right;\n",
       "    }\n",
       "</style>\n",
       "<table border=\"1\" class=\"dataframe\">\n",
       "  <thead>\n",
       "    <tr style=\"text-align: right;\">\n",
       "      <th></th>\n",
       "      <th>0</th>\n",
       "      <th>1</th>\n",
       "    </tr>\n",
       "  </thead>\n",
       "  <tbody>\n",
       "    <tr>\n",
       "      <td>ID</td>\n",
       "      <td>1.0</td>\n",
       "      <td>2.0</td>\n",
       "    </tr>\n",
       "    <tr>\n",
       "      <td>LIMIT_BAL</td>\n",
       "      <td>20000.0</td>\n",
       "      <td>120000.0</td>\n",
       "    </tr>\n",
       "    <tr>\n",
       "      <td>SEX</td>\n",
       "      <td>2.0</td>\n",
       "      <td>2.0</td>\n",
       "    </tr>\n",
       "    <tr>\n",
       "      <td>EDUCATION</td>\n",
       "      <td>2.0</td>\n",
       "      <td>2.0</td>\n",
       "    </tr>\n",
       "    <tr>\n",
       "      <td>MARRIAGE</td>\n",
       "      <td>1.0</td>\n",
       "      <td>2.0</td>\n",
       "    </tr>\n",
       "    <tr>\n",
       "      <td>AGE</td>\n",
       "      <td>24.0</td>\n",
       "      <td>26.0</td>\n",
       "    </tr>\n",
       "    <tr>\n",
       "      <td>PAY_0</td>\n",
       "      <td>2.0</td>\n",
       "      <td>-1.0</td>\n",
       "    </tr>\n",
       "    <tr>\n",
       "      <td>PAY_2</td>\n",
       "      <td>2.0</td>\n",
       "      <td>2.0</td>\n",
       "    </tr>\n",
       "    <tr>\n",
       "      <td>PAY_3</td>\n",
       "      <td>-1.0</td>\n",
       "      <td>0.0</td>\n",
       "    </tr>\n",
       "    <tr>\n",
       "      <td>PAY_4</td>\n",
       "      <td>-1.0</td>\n",
       "      <td>0.0</td>\n",
       "    </tr>\n",
       "    <tr>\n",
       "      <td>PAY_5</td>\n",
       "      <td>-2.0</td>\n",
       "      <td>0.0</td>\n",
       "    </tr>\n",
       "    <tr>\n",
       "      <td>PAY_6</td>\n",
       "      <td>-2.0</td>\n",
       "      <td>2.0</td>\n",
       "    </tr>\n",
       "    <tr>\n",
       "      <td>BILL_AMT1</td>\n",
       "      <td>3913.0</td>\n",
       "      <td>2682.0</td>\n",
       "    </tr>\n",
       "    <tr>\n",
       "      <td>BILL_AMT2</td>\n",
       "      <td>3102.0</td>\n",
       "      <td>1725.0</td>\n",
       "    </tr>\n",
       "    <tr>\n",
       "      <td>BILL_AMT3</td>\n",
       "      <td>689.0</td>\n",
       "      <td>2682.0</td>\n",
       "    </tr>\n",
       "    <tr>\n",
       "      <td>BILL_AMT4</td>\n",
       "      <td>0.0</td>\n",
       "      <td>3272.0</td>\n",
       "    </tr>\n",
       "    <tr>\n",
       "      <td>BILL_AMT5</td>\n",
       "      <td>0.0</td>\n",
       "      <td>3455.0</td>\n",
       "    </tr>\n",
       "    <tr>\n",
       "      <td>BILL_AMT6</td>\n",
       "      <td>0.0</td>\n",
       "      <td>3261.0</td>\n",
       "    </tr>\n",
       "    <tr>\n",
       "      <td>PAY_AMT1</td>\n",
       "      <td>0.0</td>\n",
       "      <td>0.0</td>\n",
       "    </tr>\n",
       "    <tr>\n",
       "      <td>PAY_AMT2</td>\n",
       "      <td>689.0</td>\n",
       "      <td>1000.0</td>\n",
       "    </tr>\n",
       "    <tr>\n",
       "      <td>PAY_AMT3</td>\n",
       "      <td>0.0</td>\n",
       "      <td>1000.0</td>\n",
       "    </tr>\n",
       "    <tr>\n",
       "      <td>PAY_AMT4</td>\n",
       "      <td>0.0</td>\n",
       "      <td>1000.0</td>\n",
       "    </tr>\n",
       "    <tr>\n",
       "      <td>PAY_AMT5</td>\n",
       "      <td>0.0</td>\n",
       "      <td>0.0</td>\n",
       "    </tr>\n",
       "    <tr>\n",
       "      <td>PAY_AMT6</td>\n",
       "      <td>0.0</td>\n",
       "      <td>2000.0</td>\n",
       "    </tr>\n",
       "    <tr>\n",
       "      <td>default.payment.next.month</td>\n",
       "      <td>1.0</td>\n",
       "      <td>1.0</td>\n",
       "    </tr>\n",
       "  </tbody>\n",
       "</table>\n",
       "</div>"
      ],
      "text/plain": [
       "                                  0         1\n",
       "ID                              1.0       2.0\n",
       "LIMIT_BAL                   20000.0  120000.0\n",
       "SEX                             2.0       2.0\n",
       "EDUCATION                       2.0       2.0\n",
       "MARRIAGE                        1.0       2.0\n",
       "AGE                            24.0      26.0\n",
       "PAY_0                           2.0      -1.0\n",
       "PAY_2                           2.0       2.0\n",
       "PAY_3                          -1.0       0.0\n",
       "PAY_4                          -1.0       0.0\n",
       "PAY_5                          -2.0       0.0\n",
       "PAY_6                          -2.0       2.0\n",
       "BILL_AMT1                    3913.0    2682.0\n",
       "BILL_AMT2                    3102.0    1725.0\n",
       "BILL_AMT3                     689.0    2682.0\n",
       "BILL_AMT4                       0.0    3272.0\n",
       "BILL_AMT5                       0.0    3455.0\n",
       "BILL_AMT6                       0.0    3261.0\n",
       "PAY_AMT1                        0.0       0.0\n",
       "PAY_AMT2                      689.0    1000.0\n",
       "PAY_AMT3                        0.0    1000.0\n",
       "PAY_AMT4                        0.0    1000.0\n",
       "PAY_AMT5                        0.0       0.0\n",
       "PAY_AMT6                        0.0    2000.0\n",
       "default.payment.next.month      1.0       1.0"
      ]
     },
     "execution_count": 104,
     "metadata": {},
     "output_type": "execute_result"
    }
   ],
   "source": [
    "# смотрим данные\n",
    "df.head(2).T"
   ]
  },
  {
   "cell_type": "code",
   "execution_count": 105,
   "metadata": {},
   "outputs": [],
   "source": [
    "# видим что таргет default.payment.next.month остался в данных\n",
    "# модель смотрит только на него, и если там 1, она предсказывает 1, если там 0, она предсказывает 0\n",
    "# такое нам не интересно\n",
    "# повторяем все аналогично, но при этом удалим из df таргет (он все равно останется в y)"
   ]
  },
  {
   "cell_type": "code",
   "execution_count": 106,
   "metadata": {},
   "outputs": [],
   "source": [
    "df_without_target = df.drop('default.payment.next.month', axis=1)"
   ]
  },
  {
   "cell_type": "code",
   "execution_count": 107,
   "metadata": {},
   "outputs": [
    {
     "name": "stderr",
     "output_type": "stream",
     "text": [
      "/home/jupyterhub/jupyterhub_venv/lib/python3.6/site-packages/sklearn/linear_model/logistic.py:432: FutureWarning: Default solver will be changed to 'lbfgs' in 0.22. Specify a solver to silence this warning.\n",
      "  FutureWarning)\n"
     ]
    }
   ],
   "source": [
    "lr = LogisticRegression(penalty='l1')                      # объявляем еще раз эту модель с каким-то параметром\n",
    "                                                           # важно следующее\n",
    "lr.fit(df_without_target, y)                               # одной строчкой обучаем\n",
    "pred = lr.predict(df_without_target)                       # одной строчкой получаем предсказания"
   ]
  },
  {
   "cell_type": "code",
   "execution_count": 108,
   "metadata": {},
   "outputs": [
    {
     "name": "stdout",
     "output_type": "stream",
     "text": [
      "precision 0.7175090252707581\n",
      "recall 0.23960216998191683\n",
      "f1 0.359240849525531\n"
     ]
    }
   ],
   "source": [
    "print('precision', precision_score(y, pred))\n",
    "print('recall', recall_score(y, pred))\n",
    "print('f1', f1_score(y, pred))"
   ]
  },
  {
   "cell_type": "code",
   "execution_count": 109,
   "metadata": {},
   "outputs": [],
   "source": [
    "# качество теперь не 100%, значит удаление таргета взяло свое)"
   ]
  },
  {
   "cell_type": "markdown",
   "metadata": {},
   "source": [
    "## В заключении, сделаем трюк с делением выборки на 2 части"
   ]
  },
  {
   "cell_type": "markdown",
   "metadata": {},
   "source": [
    "![](https://machine-learning-course.readthedocs.io/en/latest/_images/holdout.png)"
   ]
  },
  {
   "cell_type": "code",
   "execution_count": 110,
   "metadata": {},
   "outputs": [],
   "source": [
    "from sklearn.model_selection import train_test_split"
   ]
  },
  {
   "cell_type": "code",
   "execution_count": 111,
   "metadata": {},
   "outputs": [],
   "source": [
    "X_train, X_test, y_train, y_test = train_test_split(\n",
    "    df_without_target,                           # передаем данные без таргета\n",
    "    y,                                           # передаем таргет\n",
    "    test_size=0.2)                               # указываем в каких пропорциях поделить (тест будет 20% от всех данных)"
   ]
  },
  {
   "cell_type": "code",
   "execution_count": 112,
   "metadata": {},
   "outputs": [
    {
     "name": "stderr",
     "output_type": "stream",
     "text": [
      "/home/jupyterhub/jupyterhub_venv/lib/python3.6/site-packages/sklearn/linear_model/logistic.py:432: FutureWarning: Default solver will be changed to 'lbfgs' in 0.22. Specify a solver to silence this warning.\n",
      "  FutureWarning)\n"
     ]
    }
   ],
   "source": [
    "lr = LogisticRegression(penalty='l1')    \n",
    "lr.fit(X_train, y_train)                  # обчаем только на TRAIN части\n",
    "pred = lr.predict(X_test)                 # предсказываем на TEST части"
   ]
  },
  {
   "cell_type": "code",
   "execution_count": 113,
   "metadata": {},
   "outputs": [
    {
     "name": "stdout",
     "output_type": "stream",
     "text": [
      "precision 0.6721991701244814\n",
      "recall 0.2394678492239468\n",
      "f1 0.353133514986376\n"
     ]
    }
   ],
   "source": [
    "# смотрим качество сравнивая предсказания на TEST с реальными ответами на TEST\n",
    "print('precision', precision_score(y_test, pred))\n",
    "print('recall', recall_score(y_test, pred))\n",
    "print('f1', f1_score(y_test, pred))"
   ]
  }
 ],
 "metadata": {
  "kernelspec": {
   "display_name": "Python 3",
   "language": "python",
   "name": "python3"
  },
  "language_info": {
   "codemirror_mode": {
    "name": "ipython",
    "version": 3
   },
   "file_extension": ".py",
   "mimetype": "text/x-python",
   "name": "python",
   "nbconvert_exporter": "python",
   "pygments_lexer": "ipython3",
   "version": "3.6.8"
  }
 },
 "nbformat": 4,
 "nbformat_minor": 2
}
