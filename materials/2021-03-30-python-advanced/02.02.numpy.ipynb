{
 "cells": [
  {
   "cell_type": "markdown",
   "metadata": {},
   "source": [
    "**[Numpy](https://numpy.org)**\n",
    "* Linear algebra for dense vectors and matricies\n",
    "* Convinient for images representing as numbers\n",
    "* Implemented on C\n",
    "* Pandas is based on numpy library\n",
    "\n",
    "[official tutorial](https://docs.scipy.org/doc/numpy/user/quickstart.html)"
   ]
  },
  {
   "cell_type": "code",
   "execution_count": null,
   "metadata": {
    "ExecuteTime": {
     "end_time": "2020-09-23T14:36:42.977186Z",
     "start_time": "2020-09-23T14:36:42.838959Z"
    }
   },
   "outputs": [],
   "source": [
    "import numpy as np"
   ]
  },
  {
   "cell_type": "markdown",
   "metadata": {
    "heading_collapsed": true
   },
   "source": [
    "# Why you should consider use numpy in your back-end?"
   ]
  },
  {
   "cell_type": "code",
   "execution_count": null,
   "metadata": {
    "ExecuteTime": {
     "end_time": "2020-09-23T14:36:42.982273Z",
     "start_time": "2020-09-23T14:36:42.978513Z"
    },
    "hidden": true
   },
   "outputs": [],
   "source": [
    "N = 10\n",
    "arr1 = list(range(N))\n",
    "arr2 = list(range(N))\n",
    "\n",
    "def _dot(arr1, arr2):\n",
    "    assert len(arr1) == len(arr2)\n",
    "    return sum([arr1[i]*arr2[i] for i in range(len(arr1))])"
   ]
  },
  {
   "cell_type": "code",
   "execution_count": null,
   "metadata": {
    "ExecuteTime": {
     "end_time": "2020-09-23T14:36:54.905572Z",
     "start_time": "2020-09-23T14:36:42.984153Z"
    },
    "hidden": true
   },
   "outputs": [],
   "source": [
    "%%timeit\n",
    "_dot(arr1, arr2)"
   ]
  },
  {
   "cell_type": "code",
   "execution_count": null,
   "metadata": {
    "ExecuteTime": {
     "end_time": "2020-09-23T14:37:09.152822Z",
     "start_time": "2020-09-23T14:36:54.907017Z"
    },
    "hidden": true
   },
   "outputs": [],
   "source": [
    "%%timeit\n",
    "arr3 = np.arange(N)\n",
    "arr4 = np.arange(N)\n",
    "arr3.dot(arr4)"
   ]
  },
  {
   "cell_type": "code",
   "execution_count": null,
   "metadata": {
    "ExecuteTime": {
     "end_time": "2020-09-23T14:37:09.213619Z",
     "start_time": "2020-09-23T14:37:09.154183Z"
    },
    "hidden": true
   },
   "outputs": [],
   "source": [
    "N = 1_000_000\n",
    "arr1 = list(range(N))\n",
    "arr2 = list(range(N))\n",
    "\n",
    "arr3 = np.arange(N)\n",
    "arr4 = np.arange(N)"
   ]
  },
  {
   "cell_type": "code",
   "execution_count": null,
   "metadata": {
    "ExecuteTime": {
     "end_time": "2020-09-23T14:37:18.097759Z",
     "start_time": "2020-09-23T14:37:09.217219Z"
    },
    "hidden": true
   },
   "outputs": [],
   "source": [
    "%%timeit\n",
    "_dot(arr1, arr2)"
   ]
  },
  {
   "cell_type": "code",
   "execution_count": null,
   "metadata": {
    "ExecuteTime": {
     "end_time": "2020-09-23T14:37:27.119883Z",
     "start_time": "2020-09-23T14:37:18.099073Z"
    },
    "hidden": true,
    "scrolled": true
   },
   "outputs": [],
   "source": [
    "%%timeit\n",
    "arr3.dot(arr4)"
   ]
  },
  {
   "cell_type": "markdown",
   "metadata": {},
   "source": [
    "# Arrays"
   ]
  },
  {
   "cell_type": "markdown",
   "metadata": {
    "heading_collapsed": true
   },
   "source": [
    "## Array of integers"
   ]
  },
  {
   "cell_type": "code",
   "execution_count": null,
   "metadata": {
    "ExecuteTime": {
     "end_time": "2020-09-23T14:37:27.124513Z",
     "start_time": "2020-09-23T14:37:27.121948Z"
    },
    "hidden": true
   },
   "outputs": [],
   "source": [
    "row_vec_int = np.array([1, 2, 3, 4, 5, 6, 7, 8, 9])"
   ]
  },
  {
   "cell_type": "code",
   "execution_count": null,
   "metadata": {
    "ExecuteTime": {
     "end_time": "2020-09-23T14:37:27.189490Z",
     "start_time": "2020-09-23T14:37:27.127023Z"
    },
    "hidden": true
   },
   "outputs": [],
   "source": [
    "row_vec_int, row_vec_int.dtype"
   ]
  },
  {
   "cell_type": "markdown",
   "metadata": {
    "heading_collapsed": true
   },
   "source": [
    "## Array of floats"
   ]
  },
  {
   "cell_type": "code",
   "execution_count": null,
   "metadata": {
    "ExecuteTime": {
     "end_time": "2020-09-23T14:37:27.226134Z",
     "start_time": "2020-09-23T14:37:27.190705Z"
    },
    "hidden": true
   },
   "outputs": [],
   "source": [
    "row_vec_float = np.array([1., 2., 3., 4., 5., 6., 7., 8., 9.])"
   ]
  },
  {
   "cell_type": "code",
   "execution_count": null,
   "metadata": {
    "ExecuteTime": {
     "end_time": "2020-09-23T14:37:27.272576Z",
     "start_time": "2020-09-23T14:37:27.227552Z"
    },
    "hidden": true
   },
   "outputs": [],
   "source": [
    "row_vec_float, row_vec_float.dtype"
   ]
  },
  {
   "cell_type": "code",
   "execution_count": null,
   "metadata": {
    "ExecuteTime": {
     "end_time": "2020-09-23T14:37:27.319181Z",
     "start_time": "2020-09-23T14:37:27.273770Z"
    },
    "hidden": true
   },
   "outputs": [],
   "source": [
    "row_vec_float.astype(np.float32)"
   ]
  },
  {
   "cell_type": "code",
   "execution_count": null,
   "metadata": {
    "ExecuteTime": {
     "end_time": "2020-09-23T14:37:27.364652Z",
     "start_time": "2020-09-23T14:37:27.320490Z"
    },
    "hidden": true
   },
   "outputs": [],
   "source": [
    "row_vec_float.shape"
   ]
  },
  {
   "cell_type": "markdown",
   "metadata": {
    "heading_collapsed": true
   },
   "source": [
    "## Array of strings"
   ]
  },
  {
   "cell_type": "code",
   "execution_count": null,
   "metadata": {
    "ExecuteTime": {
     "end_time": "2020-09-23T14:37:27.408343Z",
     "start_time": "2020-09-23T14:37:27.366083Z"
    },
    "hidden": true
   },
   "outputs": [],
   "source": [
    "row_vec_str = np.array(list('Hello World!'))"
   ]
  },
  {
   "cell_type": "code",
   "execution_count": null,
   "metadata": {
    "ExecuteTime": {
     "end_time": "2020-09-23T14:37:27.454617Z",
     "start_time": "2020-09-23T14:37:27.409686Z"
    },
    "hidden": true
   },
   "outputs": [],
   "source": [
    "row_vec_str"
   ]
  },
  {
   "cell_type": "code",
   "execution_count": null,
   "metadata": {
    "ExecuteTime": {
     "end_time": "2020-09-23T14:37:27.501639Z",
     "start_time": "2020-09-23T14:37:27.455918Z"
    },
    "hidden": true
   },
   "outputs": [],
   "source": [
    "row_vec_str.shape"
   ]
  },
  {
   "cell_type": "markdown",
   "metadata": {
    "heading_collapsed": true
   },
   "source": [
    "## Indexing / Slicing"
   ]
  },
  {
   "cell_type": "markdown",
   "metadata": {
    "heading_collapsed": true,
    "hidden": true
   },
   "source": [
    "### Access by element index\n",
    "\n",
    "`array[i]`, `array[[0, ..., n]]`,\n",
    "\n",
    "`i` - intergers from `0` to `len(array) - 1`. Could be negative, starting from `-1` to `0`"
   ]
  },
  {
   "cell_type": "code",
   "execution_count": null,
   "metadata": {
    "ExecuteTime": {
     "end_time": "2020-09-23T14:37:27.547561Z",
     "start_time": "2020-09-23T14:37:27.502917Z"
    },
    "hidden": true
   },
   "outputs": [],
   "source": [
    "row_vec_int"
   ]
  },
  {
   "cell_type": "code",
   "execution_count": null,
   "metadata": {
    "ExecuteTime": {
     "end_time": "2020-09-23T14:37:27.593378Z",
     "start_time": "2020-09-23T14:37:27.549174Z"
    },
    "hidden": true
   },
   "outputs": [],
   "source": [
    "row_vec_int[0], row_vec_int[1]"
   ]
  },
  {
   "cell_type": "code",
   "execution_count": null,
   "metadata": {
    "ExecuteTime": {
     "end_time": "2020-09-23T14:37:27.637884Z",
     "start_time": "2020-09-23T14:37:27.595707Z"
    },
    "hidden": true
   },
   "outputs": [],
   "source": [
    "row_vec_int[-1], row_vec_int[-2]"
   ]
  },
  {
   "cell_type": "code",
   "execution_count": null,
   "metadata": {
    "ExecuteTime": {
     "end_time": "2020-09-23T14:37:27.684800Z",
     "start_time": "2020-09-23T14:37:27.638937Z"
    },
    "hidden": true
   },
   "outputs": [],
   "source": [
    "row_vec_int[[0, 4, 7, len(row_vec_int)-1]]"
   ]
  },
  {
   "cell_type": "code",
   "execution_count": null,
   "metadata": {
    "ExecuteTime": {
     "end_time": "2020-09-23T14:37:27.728938Z",
     "start_time": "2020-09-23T14:37:27.686322Z"
    },
    "hidden": true
   },
   "outputs": [],
   "source": [
    "row_vec_int[[0, -5, -2, -1]]"
   ]
  },
  {
   "cell_type": "markdown",
   "metadata": {
    "heading_collapsed": true,
    "hidden": true
   },
   "source": [
    "### Slicing"
   ]
  },
  {
   "cell_type": "markdown",
   "metadata": {
    "hidden": true
   },
   "source": [
    "For numpy arrays it's like for python `list`.\n",
    "\n",
    "`array[start_idx: stop_idx: step]`\n",
    "\n",
    "`start_idx, stop_idx, step` - integers (index of element). `start_idx` inclusive, `stop_idx` exlusive. Could be negative."
   ]
  },
  {
   "cell_type": "code",
   "execution_count": null,
   "metadata": {
    "ExecuteTime": {
     "end_time": "2020-09-23T14:37:27.773955Z",
     "start_time": "2020-09-23T14:37:27.730740Z"
    },
    "hidden": true
   },
   "outputs": [],
   "source": [
    "row_vec_int"
   ]
  },
  {
   "cell_type": "code",
   "execution_count": null,
   "metadata": {
    "ExecuteTime": {
     "end_time": "2020-09-23T14:37:27.819924Z",
     "start_time": "2020-09-23T14:37:27.777742Z"
    },
    "hidden": true
   },
   "outputs": [],
   "source": [
    "row_vec_int[0: 5]"
   ]
  },
  {
   "cell_type": "code",
   "execution_count": null,
   "metadata": {
    "ExecuteTime": {
     "end_time": "2020-09-23T14:37:27.866174Z",
     "start_time": "2020-09-23T14:37:27.822019Z"
    },
    "hidden": true
   },
   "outputs": [],
   "source": [
    "row_vec_int[2: 5]"
   ]
  },
  {
   "cell_type": "code",
   "execution_count": null,
   "metadata": {
    "ExecuteTime": {
     "end_time": "2020-09-23T14:37:27.910505Z",
     "start_time": "2020-09-23T14:37:27.867928Z"
    },
    "hidden": true
   },
   "outputs": [],
   "source": [
    "row_vec_int[3:]"
   ]
  },
  {
   "cell_type": "code",
   "execution_count": null,
   "metadata": {
    "hidden": true
   },
   "outputs": [],
   "source": []
  },
  {
   "cell_type": "code",
   "execution_count": null,
   "metadata": {
    "ExecuteTime": {
     "end_time": "2020-09-23T14:37:27.955663Z",
     "start_time": "2020-09-23T14:37:27.912527Z"
    },
    "hidden": true
   },
   "outputs": [],
   "source": [
    "row_vec_int[1: len(row_vec_int): 2]"
   ]
  },
  {
   "cell_type": "code",
   "execution_count": null,
   "metadata": {
    "ExecuteTime": {
     "end_time": "2020-09-23T14:37:28.001328Z",
     "start_time": "2020-09-23T14:37:27.956876Z"
    },
    "hidden": true
   },
   "outputs": [],
   "source": [
    "row_vec_int[1::2]"
   ]
  },
  {
   "cell_type": "code",
   "execution_count": null,
   "metadata": {
    "hidden": true
   },
   "outputs": [],
   "source": []
  },
  {
   "cell_type": "code",
   "execution_count": null,
   "metadata": {
    "ExecuteTime": {
     "end_time": "2020-09-23T14:37:28.048274Z",
     "start_time": "2020-09-23T14:37:28.002457Z"
    },
    "hidden": true
   },
   "outputs": [],
   "source": [
    "row_vec_int[0: len(row_vec_int): 2]"
   ]
  },
  {
   "cell_type": "code",
   "execution_count": null,
   "metadata": {
    "ExecuteTime": {
     "end_time": "2020-09-23T14:37:28.183039Z",
     "start_time": "2020-09-23T14:37:28.049520Z"
    },
    "hidden": true
   },
   "outputs": [],
   "source": [
    "row_vec_int[0::2]"
   ]
  },
  {
   "cell_type": "code",
   "execution_count": null,
   "metadata": {
    "hidden": true
   },
   "outputs": [],
   "source": []
  },
  {
   "cell_type": "code",
   "execution_count": null,
   "metadata": {
    "ExecuteTime": {
     "end_time": "2020-09-23T14:37:28.227577Z",
     "start_time": "2020-09-23T14:37:28.184823Z"
    },
    "hidden": true
   },
   "outputs": [],
   "source": [
    "row_vec_int"
   ]
  },
  {
   "cell_type": "code",
   "execution_count": null,
   "metadata": {
    "ExecuteTime": {
     "end_time": "2020-09-23T14:37:28.273323Z",
     "start_time": "2020-09-23T14:37:28.228876Z"
    },
    "hidden": true
   },
   "outputs": [],
   "source": [
    "row_vec_int[-1: 0: -2]"
   ]
  },
  {
   "cell_type": "markdown",
   "metadata": {
    "heading_collapsed": true
   },
   "source": [
    "## Column array"
   ]
  },
  {
   "cell_type": "code",
   "execution_count": null,
   "metadata": {
    "ExecuteTime": {
     "end_time": "2020-09-23T14:37:28.317426Z",
     "start_time": "2020-09-23T14:37:28.274760Z"
    },
    "hidden": true
   },
   "outputs": [],
   "source": [
    "col_vec = np.array([1, 2, 3, 4, 5])"
   ]
  },
  {
   "cell_type": "code",
   "execution_count": null,
   "metadata": {
    "ExecuteTime": {
     "end_time": "2020-09-23T14:37:28.363879Z",
     "start_time": "2020-09-23T14:37:28.318470Z"
    },
    "hidden": true
   },
   "outputs": [],
   "source": [
    "col_vec, col_vec.shape"
   ]
  },
  {
   "cell_type": "code",
   "execution_count": null,
   "metadata": {
    "ExecuteTime": {
     "end_time": "2020-09-23T14:37:28.409426Z",
     "start_time": "2020-09-23T14:37:28.365163Z"
    },
    "hidden": true
   },
   "outputs": [],
   "source": [
    "col_vec.reshape(-1, 1)"
   ]
  },
  {
   "cell_type": "code",
   "execution_count": null,
   "metadata": {
    "ExecuteTime": {
     "end_time": "2020-09-23T14:37:28.454980Z",
     "start_time": "2020-09-23T14:37:28.410695Z"
    },
    "hidden": true
   },
   "outputs": [],
   "source": [
    "col_vec[:, np.newaxis]"
   ]
  },
  {
   "cell_type": "code",
   "execution_count": null,
   "metadata": {
    "ExecuteTime": {
     "end_time": "2020-09-23T14:37:28.500171Z",
     "start_time": "2020-09-23T14:37:28.456353Z"
    },
    "hidden": true
   },
   "outputs": [],
   "source": [
    "col_vec[:, np.newaxis].shape"
   ]
  },
  {
   "cell_type": "code",
   "execution_count": null,
   "metadata": {
    "ExecuteTime": {
     "end_time": "2020-09-23T14:37:28.545973Z",
     "start_time": "2020-09-23T14:37:28.501749Z"
    },
    "hidden": true
   },
   "outputs": [],
   "source": [
    "col_vec[:, np.newaxis].shape"
   ]
  },
  {
   "cell_type": "markdown",
   "metadata": {
    "heading_collapsed": true
   },
   "source": [
    "## Creating arrays"
   ]
  },
  {
   "cell_type": "markdown",
   "metadata": {
    "heading_collapsed": true,
    "hidden": true
   },
   "source": [
    "### Empty array"
   ]
  },
  {
   "cell_type": "code",
   "execution_count": null,
   "metadata": {
    "ExecuteTime": {
     "end_time": "2020-09-23T14:37:28.590191Z",
     "start_time": "2020-09-23T14:37:28.547307Z"
    },
    "hidden": true
   },
   "outputs": [],
   "source": [
    "vec_empty = np.empty((5,), dtype=np.float32)"
   ]
  },
  {
   "cell_type": "code",
   "execution_count": null,
   "metadata": {
    "ExecuteTime": {
     "end_time": "2020-09-23T14:37:28.638364Z",
     "start_time": "2020-09-23T14:37:28.591376Z"
    },
    "hidden": true
   },
   "outputs": [],
   "source": [
    "vec_empty"
   ]
  },
  {
   "cell_type": "markdown",
   "metadata": {
    "hidden": true
   },
   "source": [
    "**Note:** empty does not set the array values to zero, and may therefore be marginally faster. On the other hand, it requires the user to manually set all the values in the array, and should be used with caution."
   ]
  },
  {
   "cell_type": "code",
   "execution_count": null,
   "metadata": {
    "ExecuteTime": {
     "end_time": "2020-09-23T14:37:28.683260Z",
     "start_time": "2020-09-23T14:37:28.639780Z"
    },
    "hidden": true
   },
   "outputs": [],
   "source": [
    "vec_empty.shape"
   ]
  },
  {
   "cell_type": "code",
   "execution_count": null,
   "metadata": {
    "ExecuteTime": {
     "end_time": "2020-09-23T14:37:28.729051Z",
     "start_time": "2020-09-23T14:37:28.684473Z"
    },
    "hidden": true
   },
   "outputs": [],
   "source": [
    "vec_empty[0], vec_empty[3]"
   ]
  },
  {
   "cell_type": "markdown",
   "metadata": {
    "heading_collapsed": true,
    "hidden": true
   },
   "source": [
    "### Zero array"
   ]
  },
  {
   "cell_type": "code",
   "execution_count": null,
   "metadata": {
    "ExecuteTime": {
     "end_time": "2020-09-23T14:37:28.772923Z",
     "start_time": "2020-09-23T14:37:28.730507Z"
    },
    "hidden": true
   },
   "outputs": [],
   "source": [
    "vec_zero = np.zeros((5,), dtype=np.float32)"
   ]
  },
  {
   "cell_type": "code",
   "execution_count": null,
   "metadata": {
    "ExecuteTime": {
     "end_time": "2020-09-23T14:37:28.819235Z",
     "start_time": "2020-09-23T14:37:28.774302Z"
    },
    "hidden": true
   },
   "outputs": [],
   "source": [
    "vec_zero"
   ]
  },
  {
   "cell_type": "code",
   "execution_count": null,
   "metadata": {
    "ExecuteTime": {
     "end_time": "2020-09-23T14:37:28.864744Z",
     "start_time": "2020-09-23T14:37:28.820653Z"
    },
    "hidden": true
   },
   "outputs": [],
   "source": [
    "vec_zero[0], vec_zero[3], vec_zero.shape"
   ]
  },
  {
   "cell_type": "markdown",
   "metadata": {
    "heading_collapsed": true,
    "hidden": true
   },
   "source": [
    "### Ones array"
   ]
  },
  {
   "cell_type": "code",
   "execution_count": null,
   "metadata": {
    "ExecuteTime": {
     "end_time": "2020-09-23T14:37:28.908911Z",
     "start_time": "2020-09-23T14:37:28.866202Z"
    },
    "hidden": true
   },
   "outputs": [],
   "source": [
    "vec_ones = np.ones((5,), dtype=np.float32)"
   ]
  },
  {
   "cell_type": "code",
   "execution_count": null,
   "metadata": {
    "ExecuteTime": {
     "end_time": "2020-09-23T14:37:28.955370Z",
     "start_time": "2020-09-23T14:37:28.910328Z"
    },
    "hidden": true
   },
   "outputs": [],
   "source": [
    "vec_ones"
   ]
  },
  {
   "cell_type": "code",
   "execution_count": null,
   "metadata": {
    "ExecuteTime": {
     "end_time": "2020-09-23T14:37:29.001172Z",
     "start_time": "2020-09-23T14:37:28.957015Z"
    },
    "hidden": true
   },
   "outputs": [],
   "source": [
    "vec_ones[0], vec_ones[1], vec_ones.shape"
   ]
  },
  {
   "cell_type": "markdown",
   "metadata": {
    "heading_collapsed": true,
    "hidden": true
   },
   "source": [
    "### arange"
   ]
  },
  {
   "cell_type": "markdown",
   "metadata": {
    "hidden": true
   },
   "source": [
    "`numpy.arange(start, stop, step)`\n",
    "\n",
    "Like python list range(start, stop, step) but inputs could be **float**. `stop` exlusive."
   ]
  },
  {
   "cell_type": "code",
   "execution_count": null,
   "metadata": {
    "ExecuteTime": {
     "end_time": "2020-09-23T14:37:29.045455Z",
     "start_time": "2020-09-23T14:37:29.002389Z"
    },
    "hidden": true
   },
   "outputs": [],
   "source": [
    "vec_range = np.arange(1, 11)"
   ]
  },
  {
   "cell_type": "code",
   "execution_count": null,
   "metadata": {
    "ExecuteTime": {
     "end_time": "2020-09-23T14:37:29.091688Z",
     "start_time": "2020-09-23T14:37:29.046949Z"
    },
    "hidden": true
   },
   "outputs": [],
   "source": [
    "vec_range"
   ]
  },
  {
   "cell_type": "code",
   "execution_count": null,
   "metadata": {
    "ExecuteTime": {
     "end_time": "2020-09-23T14:37:29.136184Z",
     "start_time": "2020-09-23T14:37:29.092950Z"
    },
    "hidden": true
   },
   "outputs": [],
   "source": [
    "vec_range = np.arange(1, 11, 2)"
   ]
  },
  {
   "cell_type": "code",
   "execution_count": null,
   "metadata": {
    "ExecuteTime": {
     "end_time": "2020-09-23T14:37:29.184085Z",
     "start_time": "2020-09-23T14:37:29.137563Z"
    },
    "hidden": true
   },
   "outputs": [],
   "source": [
    "vec_range"
   ]
  },
  {
   "cell_type": "code",
   "execution_count": null,
   "metadata": {
    "ExecuteTime": {
     "end_time": "2020-09-23T14:37:29.228520Z",
     "start_time": "2020-09-23T14:37:29.185324Z"
    },
    "hidden": true
   },
   "outputs": [],
   "source": [
    "vec_range = np.arange(1, 11, 2.5, dtype=np.float32)"
   ]
  },
  {
   "cell_type": "code",
   "execution_count": null,
   "metadata": {
    "ExecuteTime": {
     "end_time": "2020-09-23T14:37:29.274724Z",
     "start_time": "2020-09-23T14:37:29.229807Z"
    },
    "hidden": true
   },
   "outputs": [],
   "source": [
    "vec_range"
   ]
  },
  {
   "cell_type": "markdown",
   "metadata": {
    "hidden": true
   },
   "source": [
    "**linspace**"
   ]
  },
  {
   "cell_type": "markdown",
   "metadata": {
    "hidden": true
   },
   "source": [
    "Return evenly spaced numbers over a specified interval.\n",
    "\n",
    "Returns `num` evenly spaced samples, calculated over the\n",
    "interval [`start`, `stop`]."
   ]
  },
  {
   "cell_type": "code",
   "execution_count": null,
   "metadata": {
    "ExecuteTime": {
     "end_time": "2020-09-23T14:37:29.319142Z",
     "start_time": "2020-09-23T14:37:29.275969Z"
    },
    "hidden": true
   },
   "outputs": [],
   "source": [
    "vec_linsp = np.linspace(\n",
    "    start=10,\n",
    "    stop=1000,\n",
    "    num=100,\n",
    ")"
   ]
  },
  {
   "cell_type": "code",
   "execution_count": null,
   "metadata": {
    "ExecuteTime": {
     "end_time": "2020-09-23T14:37:29.365152Z",
     "start_time": "2020-09-23T14:37:29.320487Z"
    },
    "hidden": true
   },
   "outputs": [],
   "source": [
    "vec_linsp.shape"
   ]
  },
  {
   "cell_type": "code",
   "execution_count": null,
   "metadata": {
    "ExecuteTime": {
     "end_time": "2020-09-23T14:37:29.411583Z",
     "start_time": "2020-09-23T14:37:29.366700Z"
    },
    "hidden": true
   },
   "outputs": [],
   "source": [
    "vec_linsp"
   ]
  },
  {
   "cell_type": "markdown",
   "metadata": {
    "hidden": true
   },
   "source": [
    "**Random**"
   ]
  },
  {
   "cell_type": "markdown",
   "metadata": {
    "hidden": true
   },
   "source": [
    "Create an array of the given shape and populate it with\n",
    "random samples from a uniform distribution\n",
    "over ``[0, 1)``."
   ]
  },
  {
   "cell_type": "code",
   "execution_count": null,
   "metadata": {
    "ExecuteTime": {
     "end_time": "2020-09-23T14:37:29.455016Z",
     "start_time": "2020-09-23T14:37:29.412841Z"
    },
    "hidden": true
   },
   "outputs": [],
   "source": [
    "vec_rand = np.random.rand(10)"
   ]
  },
  {
   "cell_type": "code",
   "execution_count": null,
   "metadata": {
    "ExecuteTime": {
     "end_time": "2020-09-23T14:37:29.501427Z",
     "start_time": "2020-09-23T14:37:29.456168Z"
    },
    "hidden": true
   },
   "outputs": [],
   "source": [
    "vec_rand"
   ]
  },
  {
   "cell_type": "markdown",
   "metadata": {
    "hidden": true
   },
   "source": [
    "**Note** Right fixing `seed` in jupyter notebook"
   ]
  },
  {
   "cell_type": "code",
   "execution_count": null,
   "metadata": {
    "ExecuteTime": {
     "end_time": "2020-09-23T14:37:29.547028Z",
     "start_time": "2020-09-23T14:37:29.502723Z"
    },
    "hidden": true
   },
   "outputs": [],
   "source": [
    "np.random.seed(10)\n",
    "\n",
    "np.random.rand(10)"
   ]
  },
  {
   "cell_type": "markdown",
   "metadata": {
    "hidden": true
   },
   "source": [
    "Return random integers from `low` (inclusive) to `high` (exclusive).\n",
    "\n",
    "Return random integers from the \"discrete uniform\" distribution of\n",
    "the specified dtype in the \"half-open\" interval [`low`, `high`). If\n",
    "`high` is None (the default), then results are from [0, `low`)."
   ]
  },
  {
   "cell_type": "code",
   "execution_count": null,
   "metadata": {
    "ExecuteTime": {
     "end_time": "2020-09-23T14:37:29.591838Z",
     "start_time": "2020-09-23T14:37:29.548684Z"
    },
    "hidden": true
   },
   "outputs": [],
   "source": [
    "np.random.randint(\n",
    "    low=1,\n",
    "    high=20,\n",
    "    size=(5,),\n",
    ")"
   ]
  },
  {
   "cell_type": "code",
   "execution_count": null,
   "metadata": {
    "ExecuteTime": {
     "end_time": "2020-09-23T14:37:29.726173Z",
     "start_time": "2020-09-23T14:37:29.593228Z"
    },
    "hidden": true
   },
   "outputs": [],
   "source": [
    "np.random.randint(20, size=(5,))"
   ]
  },
  {
   "cell_type": "markdown",
   "metadata": {
    "heading_collapsed": true
   },
   "source": [
    "## Conditional selecting"
   ]
  },
  {
   "cell_type": "code",
   "execution_count": null,
   "metadata": {
    "ExecuteTime": {
     "end_time": "2020-09-23T14:37:29.770423Z",
     "start_time": "2020-09-23T14:37:29.727545Z"
    },
    "hidden": true
   },
   "outputs": [],
   "source": [
    "vec = np.array([1, 2, 3, *[4]*3, 5, 6, *[8]*4, 9, 10])"
   ]
  },
  {
   "cell_type": "code",
   "execution_count": null,
   "metadata": {
    "ExecuteTime": {
     "end_time": "2020-09-23T14:37:29.829787Z",
     "start_time": "2020-09-23T14:37:29.771661Z"
    },
    "hidden": true
   },
   "outputs": [],
   "source": [
    "vec"
   ]
  },
  {
   "cell_type": "code",
   "execution_count": null,
   "metadata": {
    "ExecuteTime": {
     "end_time": "2020-09-23T14:37:29.875229Z",
     "start_time": "2020-09-23T14:37:29.831298Z"
    },
    "hidden": true
   },
   "outputs": [],
   "source": [
    "vec==4"
   ]
  },
  {
   "cell_type": "code",
   "execution_count": null,
   "metadata": {
    "ExecuteTime": {
     "end_time": "2020-09-23T14:37:29.920737Z",
     "start_time": "2020-09-23T14:37:29.876738Z"
    },
    "hidden": true
   },
   "outputs": [],
   "source": [
    "vec[vec == 4]"
   ]
  },
  {
   "cell_type": "code",
   "execution_count": null,
   "metadata": {
    "ExecuteTime": {
     "end_time": "2020-09-23T14:37:29.966159Z",
     "start_time": "2020-09-23T14:37:29.922185Z"
    },
    "hidden": true
   },
   "outputs": [],
   "source": [
    "vec[(vec >= 5) & (vec != 8)]"
   ]
  },
  {
   "cell_type": "code",
   "execution_count": null,
   "metadata": {
    "ExecuteTime": {
     "end_time": "2020-09-23T14:37:30.011675Z",
     "start_time": "2020-09-23T14:37:29.967653Z"
    },
    "hidden": true
   },
   "outputs": [],
   "source": [
    "vec[(vec == 3) | (vec == 10)]"
   ]
  },
  {
   "cell_type": "markdown",
   "metadata": {
    "hidden": true
   },
   "source": [
    "**`numpy.where`**"
   ]
  },
  {
   "cell_type": "code",
   "execution_count": null,
   "metadata": {
    "ExecuteTime": {
     "end_time": "2020-09-23T14:37:30.056898Z",
     "start_time": "2020-09-23T14:37:30.017987Z"
    },
    "hidden": true
   },
   "outputs": [],
   "source": [
    "np.where(vec == 8)"
   ]
  },
  {
   "cell_type": "code",
   "execution_count": null,
   "metadata": {
    "ExecuteTime": {
     "end_time": "2020-09-23T14:37:30.102504Z",
     "start_time": "2020-09-23T14:37:30.059211Z"
    },
    "hidden": true
   },
   "outputs": [],
   "source": [
    "vec[np.where(vec == 4)]"
   ]
  },
  {
   "cell_type": "code",
   "execution_count": null,
   "metadata": {
    "ExecuteTime": {
     "end_time": "2020-09-23T14:37:30.147885Z",
     "start_time": "2020-09-23T14:37:30.103777Z"
    },
    "hidden": true
   },
   "outputs": [],
   "source": [
    "np.where(vec == 8, vec / 8, vec)"
   ]
  },
  {
   "cell_type": "markdown",
   "metadata": {
    "heading_collapsed": true
   },
   "source": [
    "## Basic linear algebra on arrays"
   ]
  },
  {
   "cell_type": "code",
   "execution_count": null,
   "metadata": {
    "ExecuteTime": {
     "end_time": "2020-09-23T14:37:30.192429Z",
     "start_time": "2020-09-23T14:37:30.148957Z"
    },
    "hidden": true
   },
   "outputs": [],
   "source": [
    "vec1 = np.arange(1, 6)\n",
    "vec2 = np.arange(6, 11)\n",
    "vec3 = np.ones((5,))"
   ]
  },
  {
   "cell_type": "code",
   "execution_count": null,
   "metadata": {
    "ExecuteTime": {
     "end_time": "2020-09-23T14:37:30.239141Z",
     "start_time": "2020-09-23T14:37:30.193708Z"
    },
    "hidden": true
   },
   "outputs": [],
   "source": [
    "vec1, vec2, vec3"
   ]
  },
  {
   "cell_type": "markdown",
   "metadata": {
    "heading_collapsed": true,
    "hidden": true
   },
   "source": [
    "### Sum, mult, div with scalar"
   ]
  },
  {
   "cell_type": "code",
   "execution_count": null,
   "metadata": {
    "ExecuteTime": {
     "end_time": "2020-09-23T14:37:30.284355Z",
     "start_time": "2020-09-23T14:37:30.240797Z"
    },
    "hidden": true
   },
   "outputs": [],
   "source": [
    "vec1 + 5, vec1 - 5"
   ]
  },
  {
   "cell_type": "code",
   "execution_count": null,
   "metadata": {
    "ExecuteTime": {
     "end_time": "2020-09-23T14:37:30.329738Z",
     "start_time": "2020-09-23T14:37:30.285753Z"
    },
    "hidden": true
   },
   "outputs": [],
   "source": [
    "vec3 * 4, 4 * vec3"
   ]
  },
  {
   "cell_type": "code",
   "execution_count": null,
   "metadata": {
    "ExecuteTime": {
     "end_time": "2020-09-23T14:37:30.418483Z",
     "start_time": "2020-09-23T14:37:30.330969Z"
    },
    "hidden": true
   },
   "outputs": [],
   "source": [
    "vec3 / 4, vec3 // 4, vec1 % 4"
   ]
  },
  {
   "cell_type": "markdown",
   "metadata": {
    "heading_collapsed": true,
    "hidden": true
   },
   "source": [
    "### Sum, mult, div with array (element wise)"
   ]
  },
  {
   "cell_type": "code",
   "execution_count": null,
   "metadata": {
    "ExecuteTime": {
     "end_time": "2020-09-23T14:37:30.463837Z",
     "start_time": "2020-09-23T14:37:30.419752Z"
    },
    "hidden": true
   },
   "outputs": [],
   "source": [
    "vec1 + vec3, vec1 - vec3"
   ]
  },
  {
   "cell_type": "code",
   "execution_count": null,
   "metadata": {
    "ExecuteTime": {
     "end_time": "2020-09-23T14:37:30.511310Z",
     "start_time": "2020-09-23T14:37:30.465331Z"
    },
    "hidden": true
   },
   "outputs": [],
   "source": [
    "vec1 * vec2, vec1 / vec2"
   ]
  },
  {
   "cell_type": "markdown",
   "metadata": {
    "hidden": true
   },
   "source": [
    "### Statistical functions"
   ]
  },
  {
   "cell_type": "code",
   "execution_count": null,
   "metadata": {
    "ExecuteTime": {
     "end_time": "2020-09-23T14:37:30.556607Z",
     "start_time": "2020-09-23T14:37:30.512648Z"
    },
    "hidden": true
   },
   "outputs": [],
   "source": [
    "np.sum(vec1), np.mean(vec1), np.median(vec1), np.max(vec1), np.min(vec1), np.std(vec1)"
   ]
  },
  {
   "cell_type": "markdown",
   "metadata": {},
   "source": [
    "## Задача"
   ]
  },
  {
   "cell_type": "markdown",
   "metadata": {
    "solution": "hidden",
    "solution2": "hidden",
    "solution2_first": true,
    "solution_first": true
   },
   "source": [
    "Реализуйте скалярное умножение векторов **(5 мин).**\n",
    "\n",
    "$$<\\vec{a},\\vec{b}> = \\sum_{i=1}^{n}a_{i}b_{i} = a_{1}b_{1}+a_{2}b_{2}+...+a_{n}b_{n}$$"
   ]
  },
  {
   "cell_type": "code",
   "execution_count": null,
   "metadata": {
    "ExecuteTime": {
     "end_time": "2020-09-23T14:37:30.602524Z",
     "start_time": "2020-09-23T14:37:30.558264Z"
    },
    "solution": "hidden",
    "solution2": "hidden"
   },
   "outputs": [],
   "source": [
    "def scalar_mult(a: np.ndarray, b: np.ndarray):\n",
    "    return np.sum(a*b)\n",
    "\n",
    "scalar_mult(vec1, vec3), scalar_mult(vec2, vec3), scalar_mult(vec3, vec3)"
   ]
  },
  {
   "cell_type": "code",
   "execution_count": null,
   "metadata": {
    "ExecuteTime": {
     "end_time": "2020-09-23T14:37:30.670102Z",
     "start_time": "2020-09-23T14:37:30.604142Z"
    },
    "solution": "hidden",
    "solution2": "hidden"
   },
   "outputs": [],
   "source": [
    "# Library function\n",
    "vec1.dot(vec3), vec2.dot(vec3), vec3.dot(vec3)"
   ]
  },
  {
   "cell_type": "markdown",
   "metadata": {},
   "source": [
    "## Задача"
   ]
  },
  {
   "cell_type": "markdown",
   "metadata": {
    "solution": "hidden",
    "solution2": "hidden",
    "solution2_first": true,
    "solution_first": true
   },
   "source": [
    "Реализуйте $L1, L2$ нормы векторов **(5 мин).**\n",
    "\n",
    "$$\\|\\vec{x}\\|_{1}=\\sum_{i}|x_{i}|$$\n",
    "$$\\|\\vec{x}\\|_{2}=\\sqrt{\\sum_{i}|x_{i}|^2}$$"
   ]
  },
  {
   "cell_type": "code",
   "execution_count": null,
   "metadata": {
    "ExecuteTime": {
     "end_time": "2020-09-23T14:37:30.713913Z",
     "start_time": "2020-09-23T14:37:30.671791Z"
    },
    "solution": "hidden",
    "solution2": "hidden"
   },
   "outputs": [],
   "source": [
    "def l_norm(x: np.ndarray, ord: int):\n",
    "    if ord == 1:\n",
    "        return np.sum(np.abs(x))\n",
    "    else:\n",
    "        return np.sqrt(np.sum(np.abs(x)**2))"
   ]
  },
  {
   "cell_type": "code",
   "execution_count": null,
   "metadata": {
    "ExecuteTime": {
     "end_time": "2020-09-23T14:37:30.760683Z",
     "start_time": "2020-09-23T14:37:30.715639Z"
    },
    "solution": "hidden",
    "solution2": "hidden"
   },
   "outputs": [],
   "source": [
    "l_norm(vec1, ord=1), l_norm(vec1, ord=2)"
   ]
  },
  {
   "cell_type": "code",
   "execution_count": null,
   "metadata": {
    "ExecuteTime": {
     "end_time": "2020-09-23T14:37:30.806400Z",
     "start_time": "2020-09-23T14:37:30.762326Z"
    },
    "solution": "hidden",
    "solution2": "hidden"
   },
   "outputs": [],
   "source": [
    "# Library function\n",
    "\n",
    "np.linalg.norm(vec1, ord=1), np.linalg.norm(vec1, ord=2)"
   ]
  },
  {
   "cell_type": "markdown",
   "metadata": {},
   "source": [
    "## Задача"
   ]
  },
  {
   "cell_type": "markdown",
   "metadata": {
    "solution": "hidden",
    "solution2": "hidden",
    "solution2_first": true,
    "solution_first": true
   },
   "source": [
    "Реализуйте Евклидово расстояние **(5 мин).**\n",
    "$$d(\\vec{p},\\vec{q}) = \\sqrt{\\sum_{i=1}^{n}(q_{i}-p_{i})^2} = \\sqrt{\\|\\vec{p}\\|_{2}^2 + \\|\\vec{q}\\|_{2}^2 - 2<\\vec{p},\\vec{q}>} = \\|p-q\\|_{2}$$\n",
    "\n",
    "Реализуйте косинусное расстояние расстояние **(5 мин).**\n",
    "$$\\cos{(\\theta)} = \\frac{<\\vec{p},\\vec{q}>}{\\|\\vec{p}\\|_{2} \\|\\vec{q}\\|_{2}} = \\frac{\\sum_{i=1}^{n}p_{i}q_{i}}{\\sqrt{\\sum_{i=1}^{n}|p_{i}|^2}\\sqrt{\\sum_{i=1}^{n}|q_{i}|^2}}$$\n",
    "\n",
    "$$d(\\vec{p},\\vec{q})=1-\\cos{(\\theta)}$$"
   ]
  },
  {
   "cell_type": "code",
   "execution_count": null,
   "metadata": {
    "ExecuteTime": {
     "end_time": "2020-09-23T14:37:30.849912Z",
     "start_time": "2020-09-23T14:37:30.808015Z"
    },
    "solution": "hidden",
    "solution2": "hidden"
   },
   "outputs": [],
   "source": [
    "def euclidian_distance(p: np.ndarray, q: np.ndarray):\n",
    "    norm_p_square = l_norm(p, ord=2)\n",
    "    norm_q_square = l_norm(q, ord=2)\n",
    "    scalar_pq = scalar_mult(p, q)\n",
    "    return np.sqrt(norm_p_square**2 + norm_q_square**2 - 2*scalar_pq)"
   ]
  },
  {
   "cell_type": "code",
   "execution_count": null,
   "metadata": {
    "ExecuteTime": {
     "end_time": "2020-09-23T14:37:30.896747Z",
     "start_time": "2020-09-23T14:37:30.851520Z"
    },
    "solution": "hidden",
    "solution2": "hidden"
   },
   "outputs": [],
   "source": [
    "euclidian_distance(vec1, vec2), euclidian_distance(vec1, vec3), euclidian_distance(vec2, vec3)"
   ]
  },
  {
   "cell_type": "code",
   "execution_count": null,
   "metadata": {
    "ExecuteTime": {
     "end_time": "2020-09-23T14:37:30.940710Z",
     "start_time": "2020-09-23T14:37:30.898284Z"
    },
    "solution": "hidden",
    "solution2": "hidden"
   },
   "outputs": [],
   "source": [
    "def cosine_angle(p: np.ndarray, q: np.ndarray):\n",
    "    scalar_pq = scalar_mult(p, q)\n",
    "    norm_p = l_norm(p, ord=2)\n",
    "    norm_q = l_norm(q, ord=2)\n",
    "    return scalar_pq / (norm_p*norm_q)"
   ]
  },
  {
   "cell_type": "code",
   "execution_count": null,
   "metadata": {
    "ExecuteTime": {
     "end_time": "2020-09-23T14:37:30.987634Z",
     "start_time": "2020-09-23T14:37:30.942445Z"
    },
    "solution": "hidden",
    "solution2": "hidden"
   },
   "outputs": [],
   "source": [
    "1 - cosine_angle(vec1, vec2), 1 - cosine_angle(vec1, vec3), 1 - cosine_angle(vec2, vec3)"
   ]
  },
  {
   "cell_type": "code",
   "execution_count": null,
   "metadata": {
    "ExecuteTime": {
     "end_time": "2020-09-23T14:37:31.032931Z",
     "start_time": "2020-09-23T14:37:30.989197Z"
    },
    "solution": "hidden",
    "solution2": "hidden"
   },
   "outputs": [],
   "source": [
    "# Library functions\n",
    "\n",
    "# Euclidian\n",
    "np.linalg.norm(vec1 - vec2), np.linalg.norm(vec1 - vec3), np.linalg.norm(vec2 - vec3)"
   ]
  },
  {
   "cell_type": "code",
   "execution_count": null,
   "metadata": {
    "ExecuteTime": {
     "end_time": "2020-09-23T14:37:31.174078Z",
     "start_time": "2020-09-23T14:37:31.034398Z"
    },
    "solution": "hidden",
    "solution2": "hidden"
   },
   "outputs": [],
   "source": [
    "from scipy.spatial import distance"
   ]
  },
  {
   "cell_type": "code",
   "execution_count": null,
   "metadata": {
    "ExecuteTime": {
     "end_time": "2020-09-23T14:37:31.192248Z",
     "start_time": "2020-09-23T14:37:31.176751Z"
    },
    "solution": "hidden",
    "solution2": "hidden"
   },
   "outputs": [],
   "source": [
    "distance.euclidean(vec1, vec2), distance.euclidean(vec1, vec3), distance.euclidean(vec2, vec3)"
   ]
  },
  {
   "cell_type": "code",
   "execution_count": null,
   "metadata": {
    "ExecuteTime": {
     "end_time": "2020-09-23T14:37:31.314157Z",
     "start_time": "2020-09-23T14:37:31.194904Z"
    },
    "solution": "hidden",
    "solution2": "hidden"
   },
   "outputs": [],
   "source": [
    "# Cosine\n",
    "def cosine_lib(p: np.ndarray, q: np.ndarray):\n",
    "    return p.dot(q) / (np.linalg.norm(p, ord=2) * np.linalg.norm(q, ord=2))"
   ]
  },
  {
   "cell_type": "code",
   "execution_count": null,
   "metadata": {
    "ExecuteTime": {
     "end_time": "2020-09-23T14:37:31.371951Z",
     "start_time": "2020-09-23T14:37:31.315354Z"
    },
    "solution": "hidden",
    "solution2": "hidden"
   },
   "outputs": [],
   "source": [
    "1 - cosine_lib(vec1, vec2), 1 - cosine_lib(vec1, vec3), 1 - cosine_lib(vec2, vec3)"
   ]
  },
  {
   "cell_type": "code",
   "execution_count": null,
   "metadata": {
    "ExecuteTime": {
     "end_time": "2020-09-23T14:37:31.417653Z",
     "start_time": "2020-09-23T14:37:31.373204Z"
    },
    "solution": "hidden",
    "solution2": "hidden"
   },
   "outputs": [],
   "source": [
    "distance.cosine(vec1, vec2), distance.cosine(vec1, vec3), distance.cosine(vec2, vec3)"
   ]
  },
  {
   "cell_type": "markdown",
   "metadata": {},
   "source": [
    "# Matricies"
   ]
  },
  {
   "cell_type": "markdown",
   "metadata": {
    "heading_collapsed": true
   },
   "source": [
    "## Create"
   ]
  },
  {
   "cell_type": "code",
   "execution_count": null,
   "metadata": {
    "ExecuteTime": {
     "end_time": "2020-09-23T14:37:31.463085Z",
     "start_time": "2020-09-23T14:37:31.418915Z"
    },
    "hidden": true
   },
   "outputs": [],
   "source": [
    "[\n",
    "    [1, 2, 3],\n",
    "    [4, 5, 6],\n",
    "    [7, 8, 9],\n",
    "    [10, 11, 12]\n",
    "]"
   ]
  },
  {
   "cell_type": "code",
   "execution_count": null,
   "metadata": {
    "ExecuteTime": {
     "end_time": "2020-09-23T14:37:31.508391Z",
     "start_time": "2020-09-23T14:37:31.464652Z"
    },
    "hidden": true
   },
   "outputs": [],
   "source": [
    "np.array([[1, 2, 3], [4, 5, 6], [7, 8, 9], [10, 11, 12]])"
   ]
  },
  {
   "cell_type": "code",
   "execution_count": null,
   "metadata": {
    "ExecuteTime": {
     "end_time": "2020-09-23T14:37:31.553818Z",
     "start_time": "2020-09-23T14:37:31.509700Z"
    },
    "hidden": true
   },
   "outputs": [],
   "source": [
    "np.arange(1, 13).reshape((4, 3))"
   ]
  },
  {
   "cell_type": "code",
   "execution_count": null,
   "metadata": {
    "ExecuteTime": {
     "end_time": "2020-09-23T14:37:31.598183Z",
     "start_time": "2020-09-23T14:37:31.555117Z"
    },
    "hidden": true
   },
   "outputs": [],
   "source": [
    "m1 = np.linspace(1, 12, num=12).reshape((4,3))"
   ]
  },
  {
   "cell_type": "code",
   "execution_count": null,
   "metadata": {
    "ExecuteTime": {
     "end_time": "2020-09-23T14:37:31.667037Z",
     "start_time": "2020-09-23T14:37:31.599386Z"
    },
    "hidden": true
   },
   "outputs": [],
   "source": [
    "np.ones((4,3))"
   ]
  },
  {
   "cell_type": "code",
   "execution_count": null,
   "metadata": {
    "ExecuteTime": {
     "end_time": "2020-09-23T14:37:31.714183Z",
     "start_time": "2020-09-23T14:37:31.668281Z"
    },
    "hidden": true
   },
   "outputs": [],
   "source": [
    "np.zeros((4,3))"
   ]
  },
  {
   "cell_type": "code",
   "execution_count": null,
   "metadata": {
    "ExecuteTime": {
     "end_time": "2020-09-23T14:37:31.759205Z",
     "start_time": "2020-09-23T14:37:31.715633Z"
    },
    "hidden": true
   },
   "outputs": [],
   "source": [
    "np.empty((4,3))"
   ]
  },
  {
   "cell_type": "code",
   "execution_count": null,
   "metadata": {
    "ExecuteTime": {
     "end_time": "2020-09-23T14:37:31.804765Z",
     "start_time": "2020-09-23T14:37:31.760671Z"
    },
    "hidden": true
   },
   "outputs": [],
   "source": [
    "np.random.seed(1)\n",
    "np.random.randint(\n",
    "    low=1,\n",
    "    high=20,\n",
    "    size=(4,3),\n",
    ")"
   ]
  },
  {
   "cell_type": "code",
   "execution_count": null,
   "metadata": {
    "ExecuteTime": {
     "end_time": "2020-09-23T14:37:31.850889Z",
     "start_time": "2020-09-23T14:37:31.806296Z"
    },
    "hidden": true
   },
   "outputs": [],
   "source": [
    "np.eye(5)"
   ]
  },
  {
   "cell_type": "code",
   "execution_count": null,
   "metadata": {
    "ExecuteTime": {
     "end_time": "2020-09-23T14:37:31.895617Z",
     "start_time": "2020-09-23T14:37:31.852045Z"
    },
    "hidden": true
   },
   "outputs": [],
   "source": [
    "np.eye(5, 3)"
   ]
  },
  {
   "cell_type": "markdown",
   "metadata": {
    "heading_collapsed": true
   },
   "source": [
    "## Rank"
   ]
  },
  {
   "cell_type": "markdown",
   "metadata": {
    "hidden": true
   },
   "source": [
    "Метод Гаусса\n",
    "\n",
    "$$\n",
    "\\quad\n",
    "\\begin{pmatrix} \n",
    "1 & 2 & 3 \\\\\n",
    "4 & 5 & 6 \\\\\n",
    "7 & 8 & 9 \\\\\n",
    "10 & 11 & 12\n",
    "\\end{pmatrix}\n",
    "\\quad ->\n",
    "\\quad\n",
    "\\begin{pmatrix} \n",
    "1 & 2 & 3 \\\\\n",
    "0 & -3 & -6 \\\\\n",
    "0 & -6 & -12 \\\\\n",
    "0 & -9 & -18\n",
    "\\end{pmatrix}\n",
    "\\quad ->\n",
    "\\quad\n",
    "\\begin{pmatrix} \n",
    "1 & 2 & 3 \\\\\n",
    "0 & -3 & -6\n",
    "\\end{pmatrix}\n",
    "\\quad\n",
    "$$\n",
    "\n",
    "**Result:** $rank = 2$"
   ]
  },
  {
   "cell_type": "code",
   "execution_count": null,
   "metadata": {
    "ExecuteTime": {
     "end_time": "2020-09-23T14:37:31.940676Z",
     "start_time": "2020-09-23T14:37:31.896842Z"
    },
    "hidden": true
   },
   "outputs": [],
   "source": [
    "np.linalg.matrix_rank(m1)"
   ]
  },
  {
   "cell_type": "markdown",
   "metadata": {
    "heading_collapsed": true
   },
   "source": [
    "## Matrix dimensions"
   ]
  },
  {
   "cell_type": "code",
   "execution_count": null,
   "metadata": {
    "ExecuteTime": {
     "end_time": "2020-09-23T14:37:31.985942Z",
     "start_time": "2020-09-23T14:37:31.941783Z"
    },
    "hidden": true
   },
   "outputs": [],
   "source": [
    "m1.shape, len(m1), m1.size, m1.ndim"
   ]
  },
  {
   "cell_type": "markdown",
   "metadata": {
    "heading_collapsed": true
   },
   "source": [
    "## Indexing"
   ]
  },
  {
   "cell_type": "markdown",
   "metadata": {
    "hidden": true
   },
   "source": [
    "`matrix[row_i, col_i]`\n",
    "\n",
    "or\n",
    "\n",
    "`matrix[row_i][col_i]`"
   ]
  },
  {
   "cell_type": "code",
   "execution_count": null,
   "metadata": {
    "ExecuteTime": {
     "end_time": "2020-09-23T14:37:32.030423Z",
     "start_time": "2020-09-23T14:37:31.987138Z"
    },
    "hidden": true
   },
   "outputs": [],
   "source": [
    "m1 = np.arange(1, 31).reshape((6, 5))"
   ]
  },
  {
   "cell_type": "code",
   "execution_count": null,
   "metadata": {
    "ExecuteTime": {
     "end_time": "2020-09-23T14:37:32.076832Z",
     "start_time": "2020-09-23T14:37:32.031598Z"
    },
    "hidden": true
   },
   "outputs": [],
   "source": [
    "m1"
   ]
  },
  {
   "cell_type": "markdown",
   "metadata": {
    "heading_collapsed": true,
    "hidden": true
   },
   "source": [
    "### Getting element"
   ]
  },
  {
   "cell_type": "code",
   "execution_count": null,
   "metadata": {
    "ExecuteTime": {
     "end_time": "2020-09-23T14:37:32.122825Z",
     "start_time": "2020-09-23T14:37:32.078005Z"
    },
    "hidden": true
   },
   "outputs": [],
   "source": [
    "m1[3, 0], m1[4, 3]"
   ]
  },
  {
   "cell_type": "code",
   "execution_count": null,
   "metadata": {
    "ExecuteTime": {
     "end_time": "2020-09-23T14:37:32.168044Z",
     "start_time": "2020-09-23T14:37:32.124335Z"
    },
    "hidden": true
   },
   "outputs": [],
   "source": [
    "m1[3][0], m1[4][3]"
   ]
  },
  {
   "cell_type": "markdown",
   "metadata": {
    "heading_collapsed": true,
    "hidden": true
   },
   "source": [
    "### Getting rows / cols"
   ]
  },
  {
   "cell_type": "markdown",
   "metadata": {
    "hidden": true
   },
   "source": [
    "Rows `matrix[[0,...,n], :]`\n",
    "\n",
    "Columns `matrix[:, [0,...,m]]`"
   ]
  },
  {
   "cell_type": "code",
   "execution_count": null,
   "metadata": {
    "ExecuteTime": {
     "end_time": "2020-09-23T14:37:32.213532Z",
     "start_time": "2020-09-23T14:37:32.169308Z"
    },
    "hidden": true
   },
   "outputs": [],
   "source": [
    "m1"
   ]
  },
  {
   "cell_type": "code",
   "execution_count": null,
   "metadata": {
    "ExecuteTime": {
     "end_time": "2020-09-23T14:37:32.260967Z",
     "start_time": "2020-09-23T14:37:32.214697Z"
    },
    "hidden": true
   },
   "outputs": [],
   "source": [
    "m1[1,:], m1[1], m1[1,], m1[1,...]"
   ]
  },
  {
   "cell_type": "code",
   "execution_count": null,
   "metadata": {
    "ExecuteTime": {
     "end_time": "2020-09-23T14:37:32.306241Z",
     "start_time": "2020-09-23T14:37:32.262210Z"
    },
    "hidden": true
   },
   "outputs": [],
   "source": [
    "m1[[1, 3, 5],:]"
   ]
  },
  {
   "cell_type": "code",
   "execution_count": null,
   "metadata": {
    "ExecuteTime": {
     "end_time": "2020-09-23T14:37:32.351324Z",
     "start_time": "2020-09-23T14:37:32.307525Z"
    },
    "hidden": true
   },
   "outputs": [],
   "source": [
    "m1[[1, 3, 5]]"
   ]
  },
  {
   "cell_type": "code",
   "execution_count": null,
   "metadata": {
    "ExecuteTime": {
     "end_time": "2020-09-23T14:37:32.396932Z",
     "start_time": "2020-09-23T14:37:32.352574Z"
    },
    "hidden": true
   },
   "outputs": [],
   "source": [
    "m1"
   ]
  },
  {
   "cell_type": "code",
   "execution_count": null,
   "metadata": {
    "ExecuteTime": {
     "end_time": "2020-09-23T14:37:32.442169Z",
     "start_time": "2020-09-23T14:37:32.398276Z"
    },
    "hidden": true
   },
   "outputs": [],
   "source": [
    "m1[:, 2]"
   ]
  },
  {
   "cell_type": "code",
   "execution_count": null,
   "metadata": {
    "ExecuteTime": {
     "end_time": "2020-09-23T14:37:32.487571Z",
     "start_time": "2020-09-23T14:37:32.443491Z"
    },
    "hidden": true
   },
   "outputs": [],
   "source": [
    "m1[:, [2, 4]]"
   ]
  },
  {
   "cell_type": "markdown",
   "metadata": {
    "heading_collapsed": true,
    "hidden": true
   },
   "source": [
    "### Putting all together\n",
    "\n",
    "`matrix[[0,...,n], :][:, [0,...,m]]`"
   ]
  },
  {
   "cell_type": "code",
   "execution_count": null,
   "metadata": {
    "ExecuteTime": {
     "end_time": "2020-09-23T14:37:32.532881Z",
     "start_time": "2020-09-23T14:37:32.488883Z"
    },
    "hidden": true
   },
   "outputs": [],
   "source": [
    "m1"
   ]
  },
  {
   "cell_type": "code",
   "execution_count": null,
   "metadata": {
    "ExecuteTime": {
     "end_time": "2020-09-23T14:37:32.578734Z",
     "start_time": "2020-09-23T14:37:32.533981Z"
    },
    "hidden": true
   },
   "outputs": [],
   "source": [
    "m1[[1,3,5],:][:,[2,4]]"
   ]
  },
  {
   "cell_type": "markdown",
   "metadata": {
    "heading_collapsed": true,
    "hidden": true
   },
   "source": [
    "### Ranges\n",
    "\n",
    "\n",
    "**Range rows by index** `matrix[start_index: end_index ,  :]`\n",
    "\n",
    "**Range columns by index** `matrix[: , start_index: end_index]`"
   ]
  },
  {
   "cell_type": "code",
   "execution_count": null,
   "metadata": {
    "ExecuteTime": {
     "end_time": "2020-09-23T14:37:32.623703Z",
     "start_time": "2020-09-23T14:37:32.579960Z"
    },
    "hidden": true
   },
   "outputs": [],
   "source": [
    "m1"
   ]
  },
  {
   "cell_type": "code",
   "execution_count": null,
   "metadata": {
    "ExecuteTime": {
     "end_time": "2020-09-23T14:37:32.669079Z",
     "start_time": "2020-09-23T14:37:32.624970Z"
    },
    "hidden": true
   },
   "outputs": [],
   "source": [
    "m1[1:4, :]"
   ]
  },
  {
   "cell_type": "code",
   "execution_count": null,
   "metadata": {
    "ExecuteTime": {
     "end_time": "2020-09-23T14:37:32.714826Z",
     "start_time": "2020-09-23T14:37:32.670349Z"
    },
    "hidden": true
   },
   "outputs": [],
   "source": [
    "m1[:, 0:3]"
   ]
  },
  {
   "cell_type": "markdown",
   "metadata": {
    "heading_collapsed": true,
    "hidden": true
   },
   "source": [
    "### Putting all together\n",
    "\n",
    "`matrix[start_row_index : end_row_index, start_column_index : end_column_index [, start_column_index : end_column_index]]`"
   ]
  },
  {
   "cell_type": "code",
   "execution_count": null,
   "metadata": {
    "ExecuteTime": {
     "end_time": "2020-09-23T14:37:32.850320Z",
     "start_time": "2020-09-23T14:37:32.716085Z"
    },
    "hidden": true
   },
   "outputs": [],
   "source": [
    "m1"
   ]
  },
  {
   "cell_type": "code",
   "execution_count": null,
   "metadata": {
    "ExecuteTime": {
     "end_time": "2020-09-23T14:37:32.896305Z",
     "start_time": "2020-09-23T14:37:32.851674Z"
    },
    "hidden": true
   },
   "outputs": [],
   "source": [
    "m1[1:5, 1:4]"
   ]
  },
  {
   "cell_type": "markdown",
   "metadata": {
    "heading_collapsed": true
   },
   "source": [
    "## Stacking vectors / matricies"
   ]
  },
  {
   "cell_type": "code",
   "execution_count": null,
   "metadata": {
    "ExecuteTime": {
     "end_time": "2020-09-23T14:37:32.941121Z",
     "start_time": "2020-09-23T14:37:32.897632Z"
    },
    "hidden": true
   },
   "outputs": [],
   "source": [
    "vec1 = np.arange(1, 6)\n",
    "vec2 = np.arange(6, 11)"
   ]
  },
  {
   "cell_type": "code",
   "execution_count": null,
   "metadata": {
    "ExecuteTime": {
     "end_time": "2020-09-23T14:37:32.987086Z",
     "start_time": "2020-09-23T14:37:32.942544Z"
    },
    "hidden": true
   },
   "outputs": [],
   "source": [
    "vec1, vec2"
   ]
  },
  {
   "cell_type": "code",
   "execution_count": null,
   "metadata": {
    "ExecuteTime": {
     "end_time": "2020-09-23T14:37:33.032302Z",
     "start_time": "2020-09-23T14:37:32.988327Z"
    },
    "hidden": true
   },
   "outputs": [],
   "source": [
    "vec1[:, np.newaxis]"
   ]
  },
  {
   "cell_type": "code",
   "execution_count": null,
   "metadata": {
    "ExecuteTime": {
     "end_time": "2020-09-23T14:37:33.077677Z",
     "start_time": "2020-09-23T14:37:33.033646Z"
    },
    "hidden": true
   },
   "outputs": [],
   "source": [
    "vec2[:, np.newaxis]"
   ]
  },
  {
   "cell_type": "code",
   "execution_count": null,
   "metadata": {
    "ExecuteTime": {
     "end_time": "2020-09-23T14:37:33.123249Z",
     "start_time": "2020-09-23T14:37:33.079361Z"
    },
    "hidden": true
   },
   "outputs": [],
   "source": [
    "np.vstack((vec1, vec2))"
   ]
  },
  {
   "cell_type": "code",
   "execution_count": null,
   "metadata": {
    "ExecuteTime": {
     "end_time": "2020-09-23T14:37:33.169586Z",
     "start_time": "2020-09-23T14:37:33.124850Z"
    },
    "hidden": true
   },
   "outputs": [],
   "source": [
    "np.hstack((vec1[:, np.newaxis], vec2[:, np.newaxis]))"
   ]
  },
  {
   "cell_type": "markdown",
   "metadata": {
    "heading_collapsed": true
   },
   "source": [
    "## Changing values"
   ]
  },
  {
   "cell_type": "code",
   "execution_count": null,
   "metadata": {
    "ExecuteTime": {
     "end_time": "2020-09-23T14:37:33.214135Z",
     "start_time": "2020-09-23T14:37:33.171202Z"
    },
    "hidden": true
   },
   "outputs": [],
   "source": [
    "m1"
   ]
  },
  {
   "cell_type": "code",
   "execution_count": null,
   "metadata": {
    "ExecuteTime": {
     "end_time": "2020-09-23T14:37:33.258104Z",
     "start_time": "2020-09-23T14:37:33.215700Z"
    },
    "hidden": true
   },
   "outputs": [],
   "source": [
    "m1[1:5, 1:4] = 0"
   ]
  },
  {
   "cell_type": "code",
   "execution_count": null,
   "metadata": {
    "ExecuteTime": {
     "end_time": "2020-09-23T14:37:33.305338Z",
     "start_time": "2020-09-23T14:37:33.259176Z"
    },
    "hidden": true
   },
   "outputs": [],
   "source": [
    "m1"
   ]
  },
  {
   "cell_type": "markdown",
   "metadata": {
    "heading_collapsed": true
   },
   "source": [
    "## Basic linear algebra"
   ]
  },
  {
   "cell_type": "markdown",
   "metadata": {
    "heading_collapsed": true,
    "hidden": true
   },
   "source": [
    "### transpose / rotate"
   ]
  },
  {
   "cell_type": "code",
   "execution_count": null,
   "metadata": {
    "ExecuteTime": {
     "end_time": "2020-09-23T14:37:33.351205Z",
     "start_time": "2020-09-23T14:37:33.306550Z"
    },
    "hidden": true
   },
   "outputs": [],
   "source": [
    "m1 = np.arange(1, 31).reshape((6, 5))\n",
    "m2 = np.eye(5, 6)"
   ]
  },
  {
   "cell_type": "code",
   "execution_count": null,
   "metadata": {
    "ExecuteTime": {
     "end_time": "2020-09-23T14:37:33.397402Z",
     "start_time": "2020-09-23T14:37:33.352404Z"
    },
    "hidden": true
   },
   "outputs": [],
   "source": [
    "m1"
   ]
  },
  {
   "cell_type": "code",
   "execution_count": null,
   "metadata": {
    "ExecuteTime": {
     "end_time": "2020-09-23T14:37:33.443129Z",
     "start_time": "2020-09-23T14:37:33.398550Z"
    },
    "hidden": true
   },
   "outputs": [],
   "source": [
    "m2"
   ]
  },
  {
   "cell_type": "code",
   "execution_count": null,
   "metadata": {
    "ExecuteTime": {
     "end_time": "2020-09-23T14:37:33.489028Z",
     "start_time": "2020-09-23T14:37:33.444311Z"
    },
    "hidden": true
   },
   "outputs": [],
   "source": [
    "m1.T"
   ]
  },
  {
   "cell_type": "code",
   "execution_count": null,
   "metadata": {
    "ExecuteTime": {
     "end_time": "2020-09-23T14:37:33.533956Z",
     "start_time": "2020-09-23T14:37:33.490217Z"
    },
    "hidden": true
   },
   "outputs": [],
   "source": [
    "m1.T.shape"
   ]
  },
  {
   "cell_type": "code",
   "execution_count": null,
   "metadata": {
    "ExecuteTime": {
     "end_time": "2020-09-23T14:37:33.591472Z",
     "start_time": "2020-09-23T14:37:33.535162Z"
    },
    "hidden": true
   },
   "outputs": [],
   "source": [
    "m1"
   ]
  },
  {
   "cell_type": "code",
   "execution_count": null,
   "metadata": {
    "ExecuteTime": {
     "end_time": "2020-09-23T14:37:33.636581Z",
     "start_time": "2020-09-23T14:37:33.592527Z"
    },
    "hidden": true
   },
   "outputs": [],
   "source": [
    "np.rot90(m1)"
   ]
  },
  {
   "cell_type": "code",
   "execution_count": null,
   "metadata": {
    "ExecuteTime": {
     "end_time": "2020-09-23T14:37:33.681648Z",
     "start_time": "2020-09-23T14:37:33.637752Z"
    },
    "hidden": true
   },
   "outputs": [],
   "source": [
    "np.rot90(m1).shape"
   ]
  },
  {
   "cell_type": "code",
   "execution_count": null,
   "metadata": {
    "ExecuteTime": {
     "end_time": "2020-09-23T14:37:33.727324Z",
     "start_time": "2020-09-23T14:37:33.682656Z"
    },
    "hidden": true
   },
   "outputs": [],
   "source": [
    "m2"
   ]
  },
  {
   "cell_type": "code",
   "execution_count": null,
   "metadata": {
    "ExecuteTime": {
     "end_time": "2020-09-23T14:37:33.772599Z",
     "start_time": "2020-09-23T14:37:33.728633Z"
    },
    "hidden": true
   },
   "outputs": [],
   "source": [
    "m2.T"
   ]
  },
  {
   "cell_type": "code",
   "execution_count": null,
   "metadata": {
    "ExecuteTime": {
     "end_time": "2020-09-23T14:37:33.817621Z",
     "start_time": "2020-09-23T14:37:33.773849Z"
    },
    "hidden": true
   },
   "outputs": [],
   "source": [
    "m1.shape, m2.T.shape"
   ]
  },
  {
   "cell_type": "markdown",
   "metadata": {
    "heading_collapsed": true,
    "hidden": true
   },
   "source": [
    "### Sum, mult, div with scalar"
   ]
  },
  {
   "cell_type": "code",
   "execution_count": null,
   "metadata": {
    "ExecuteTime": {
     "end_time": "2020-09-23T14:37:33.864743Z",
     "start_time": "2020-09-23T14:37:33.818794Z"
    },
    "hidden": true
   },
   "outputs": [],
   "source": [
    "m1 + 5"
   ]
  },
  {
   "cell_type": "code",
   "execution_count": null,
   "metadata": {
    "ExecuteTime": {
     "end_time": "2020-09-23T14:37:33.909589Z",
     "start_time": "2020-09-23T14:37:33.865784Z"
    },
    "hidden": true
   },
   "outputs": [],
   "source": [
    "m1 - 5"
   ]
  },
  {
   "cell_type": "code",
   "execution_count": null,
   "metadata": {
    "ExecuteTime": {
     "end_time": "2020-09-23T14:37:33.955240Z",
     "start_time": "2020-09-23T14:37:33.910949Z"
    },
    "hidden": true
   },
   "outputs": [],
   "source": [
    "m2 * 4"
   ]
  },
  {
   "cell_type": "code",
   "execution_count": null,
   "metadata": {
    "ExecuteTime": {
     "end_time": "2020-09-23T14:37:34.000465Z",
     "start_time": "2020-09-23T14:37:33.956367Z"
    },
    "hidden": true
   },
   "outputs": [],
   "source": [
    "m2 / 4"
   ]
  },
  {
   "cell_type": "code",
   "execution_count": null,
   "metadata": {
    "ExecuteTime": {
     "end_time": "2020-09-23T14:37:34.046046Z",
     "start_time": "2020-09-23T14:37:34.001537Z"
    },
    "hidden": true
   },
   "outputs": [],
   "source": [
    "m2 // 4"
   ]
  },
  {
   "cell_type": "code",
   "execution_count": null,
   "metadata": {
    "ExecuteTime": {
     "end_time": "2020-09-23T14:37:34.113799Z",
     "start_time": "2020-09-23T14:37:34.047286Z"
    },
    "hidden": true
   },
   "outputs": [],
   "source": [
    "m1 % 6"
   ]
  },
  {
   "cell_type": "markdown",
   "metadata": {
    "heading_collapsed": true,
    "hidden": true
   },
   "source": [
    "### Sum, mult, div with matrix (element wise)"
   ]
  },
  {
   "cell_type": "code",
   "execution_count": null,
   "metadata": {
    "ExecuteTime": {
     "end_time": "2020-09-23T14:37:34.182058Z",
     "start_time": "2020-09-23T14:37:34.115128Z"
    },
    "hidden": true
   },
   "outputs": [],
   "source": [
    "m1 + m2.T"
   ]
  },
  {
   "cell_type": "code",
   "execution_count": null,
   "metadata": {
    "ExecuteTime": {
     "end_time": "2020-09-23T14:37:34.226424Z",
     "start_time": "2020-09-23T14:37:34.183518Z"
    },
    "hidden": true
   },
   "outputs": [],
   "source": [
    "m1 - m2.T"
   ]
  },
  {
   "cell_type": "code",
   "execution_count": null,
   "metadata": {
    "ExecuteTime": {
     "end_time": "2020-09-23T14:37:34.271463Z",
     "start_time": "2020-09-23T14:37:34.227823Z"
    },
    "hidden": true
   },
   "outputs": [],
   "source": [
    "m1 * m2.T"
   ]
  },
  {
   "cell_type": "code",
   "execution_count": null,
   "metadata": {
    "ExecuteTime": {
     "end_time": "2020-09-23T14:37:34.406056Z",
     "start_time": "2020-09-23T14:37:34.272896Z"
    },
    "hidden": true
   },
   "outputs": [],
   "source": [
    "m1 / (np.ones(m1.shape)*2)"
   ]
  },
  {
   "cell_type": "code",
   "execution_count": null,
   "metadata": {
    "ExecuteTime": {
     "end_time": "2020-09-23T14:37:34.451489Z",
     "start_time": "2020-09-23T14:37:34.407378Z"
    },
    "hidden": true
   },
   "outputs": [],
   "source": [
    "m1 // (np.ones(m1.shape)*2)"
   ]
  },
  {
   "cell_type": "code",
   "execution_count": null,
   "metadata": {
    "ExecuteTime": {
     "end_time": "2020-09-23T14:37:34.497664Z",
     "start_time": "2020-09-23T14:37:34.452739Z"
    },
    "hidden": true
   },
   "outputs": [],
   "source": [
    "m1 % (np.ones(m1.shape)*6)"
   ]
  },
  {
   "cell_type": "markdown",
   "metadata": {
    "heading_collapsed": true,
    "hidden": true
   },
   "source": [
    "### Matrix product"
   ]
  },
  {
   "cell_type": "code",
   "execution_count": null,
   "metadata": {
    "ExecuteTime": {
     "end_time": "2020-09-23T14:37:34.541161Z",
     "start_time": "2020-09-23T14:37:34.499109Z"
    },
    "hidden": true
   },
   "outputs": [],
   "source": [
    "m1"
   ]
  },
  {
   "cell_type": "code",
   "execution_count": null,
   "metadata": {
    "ExecuteTime": {
     "end_time": "2020-09-23T14:37:34.588200Z",
     "start_time": "2020-09-23T14:37:34.542348Z"
    },
    "hidden": true
   },
   "outputs": [],
   "source": [
    "m2"
   ]
  },
  {
   "cell_type": "code",
   "execution_count": null,
   "metadata": {
    "ExecuteTime": {
     "end_time": "2020-09-23T14:37:34.633523Z",
     "start_time": "2020-09-23T14:37:34.589419Z"
    },
    "hidden": true
   },
   "outputs": [],
   "source": [
    "m1.shape, m2.shape"
   ]
  },
  {
   "cell_type": "code",
   "execution_count": null,
   "metadata": {
    "ExecuteTime": {
     "end_time": "2020-09-23T14:37:34.679795Z",
     "start_time": "2020-09-23T14:37:34.634855Z"
    },
    "hidden": true
   },
   "outputs": [],
   "source": [
    "m1 @ m2"
   ]
  },
  {
   "cell_type": "code",
   "execution_count": null,
   "metadata": {
    "ExecuteTime": {
     "end_time": "2020-09-23T14:37:34.724178Z",
     "start_time": "2020-09-23T14:37:34.681702Z"
    },
    "hidden": true
   },
   "outputs": [],
   "source": [
    "m1.dot(m2)"
   ]
  }
 ],
 "metadata": {
  "kernelspec": {
   "display_name": "Python 3",
   "language": "python",
   "name": "python3"
  },
  "language_info": {
   "codemirror_mode": {
    "name": "ipython",
    "version": 3
   },
   "file_extension": ".py",
   "mimetype": "text/x-python",
   "name": "python",
   "nbconvert_exporter": "python",
   "pygments_lexer": "ipython3",
   "version": "3.8.8"
  },
  "notify_time": "5",
  "toc": {
   "base_numbering": 1,
   "nav_menu": {},
   "number_sections": true,
   "sideBar": true,
   "skip_h1_title": false,
   "title_cell": "Table of Contents",
   "title_sidebar": "Contents",
   "toc_cell": false,
   "toc_position": {},
   "toc_section_display": true,
   "toc_window_display": true
  }
 },
 "nbformat": 4,
 "nbformat_minor": 2
}
